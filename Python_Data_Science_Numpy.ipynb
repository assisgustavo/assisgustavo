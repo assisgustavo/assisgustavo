{
  "cells": [
    {
      "cell_type": "markdown",
      "metadata": {
        "id": "view-in-github",
        "colab_type": "text"
      },
      "source": [
        "<a href=\"https://colab.research.google.com/github/assisgustavo/assisgustavo/blob/main/Python_Data_Science_Numpy.ipynb\" target=\"_parent\"><img src=\"https://colab.research.google.com/assets/colab-badge.svg\" alt=\"Open In Colab\"/></a>"
      ]
    },
    {
      "cell_type": "markdown",
      "metadata": {
        "id": "do3kUOLbltjE"
      },
      "source": [
        "# <font color=green> PYTHON PARA DATA SCIENCE - NUMPY\n",
        "---"
      ]
    },
    {
      "cell_type": "markdown",
      "metadata": {
        "id": "umSz9TLxltjG"
      },
      "source": [
        "# <font color=green> 1. INTRODUÇÃO AO PYTHON\n",
        "---"
      ]
    },
    {
      "cell_type": "markdown",
      "metadata": {
        "id": "gSnX12-sltjH"
      },
      "source": [
        "# 1.1 Introdução"
      ]
    },
    {
      "cell_type": "markdown",
      "metadata": {
        "id": "SRG_k55kltjI"
      },
      "source": [
        "> Python é uma linguagem de programação de alto nível com suporte a múltiplos paradigmas de programação. É um projeto *open source* e desde seu surgimento, em 1991, vem se tornando uma das linguagens de programação interpretadas mais populares. \n",
        ">\n",
        "> Nos últimos anos Python desenvolveu uma comunidade ativa de processamento científico e análise de dados e vem se destacando como uma das linguagens mais relevantes quando o assunto é ciência de dados e machine learning, tanto no ambiente acadêmico como também no mercado."
      ]
    },
    {
      "cell_type": "markdown",
      "metadata": {
        "id": "2oZuKvWkltjJ"
      },
      "source": [
        "# 1.2 Instalação e ambiente de desenvolvimento"
      ]
    },
    {
      "cell_type": "markdown",
      "metadata": {
        "id": "v4P8bMEIltjK"
      },
      "source": [
        "### Instalação Local\n",
        "\n",
        "### https://www.python.org/downloads/\n",
        "### ou\n",
        "### https://www.anaconda.com/distribution/"
      ]
    },
    {
      "cell_type": "markdown",
      "metadata": {
        "id": "FZtu5tjrltjL"
      },
      "source": [
        "### Google Colaboratory\n",
        "\n",
        "### https://colab.research.google.com"
      ]
    },
    {
      "cell_type": "markdown",
      "metadata": {
        "id": "C6vbfq8DltjM"
      },
      "source": [
        "### Verificando versão"
      ]
    },
    {
      "cell_type": "code",
      "execution_count": null,
      "metadata": {
        "colab": {
          "base_uri": "https://localhost:8080/"
        },
        "id": "jeuAt-4NltjM",
        "outputId": "c012ad2b-3142-458c-ace9-14e97a1fb632"
      },
      "outputs": [
        {
          "output_type": "stream",
          "name": "stdout",
          "text": [
            "Python 3.7.14\n"
          ]
        }
      ],
      "source": [
        "!python -V"
      ]
    },
    {
      "cell_type": "markdown",
      "metadata": {
        "id": "v86aEyR2ltjR"
      },
      "source": [
        "# 1.3 Trabalhando com arrays Numpy"
      ]
    },
    {
      "cell_type": "markdown",
      "source": [
        "Numpy é a abreviação de Numerical Python, é um pacote para cálculo numérico e muito eficiente realizando essa tarefa. Também serve de base para a construção de pacotes que são importantes para DS como o Pandas.\n",
        "O pacote Numpy possui um poderoso objeto array multidimensional, que nos permite realizar um conjunto bastante amplo de operações numéricas, sem a necessidade de utilização de laços for."
      ],
      "metadata": {
        "id": "96jhNcYRpxdR"
      }
    },
    {
      "cell_type": "code",
      "execution_count": null,
      "metadata": {
        "id": "6FEhElzNltjR"
      },
      "outputs": [],
      "source": [
        "import numpy as np"
      ]
    },
    {
      "cell_type": "code",
      "execution_count": null,
      "metadata": {
        "id": "qjL5wPLKltjU"
      },
      "outputs": [],
      "source": [
        "km = np.loadtxt('carros-km.txt')"
      ]
    },
    {
      "cell_type": "code",
      "execution_count": null,
      "metadata": {
        "id": "OFaxgUptltjW",
        "scrolled": true,
        "colab": {
          "base_uri": "https://localhost:8080/"
        },
        "outputId": "078f1438-a2e2-4105-b426-9068548d7cd0"
      },
      "outputs": [
        {
          "output_type": "execute_result",
          "data": {
            "text/plain": [
              "array([4.44100e+04, 5.71200e+03, 3.71230e+04, 0.00000e+00, 2.57570e+04,\n",
              "       1.07280e+04, 0.00000e+00, 7.75990e+04, 9.91970e+04, 3.79780e+04,\n",
              "       1.28590e+04, 8.05200e+03, 8.97730e+04, 0.00000e+00, 4.14570e+04,\n",
              "       1.15607e+05, 4.64490e+04, 0.00000e+00, 3.70860e+04, 1.51730e+04,\n",
              "       1.01193e+05, 0.00000e+00, 9.80790e+04, 1.02959e+05, 0.00000e+00,\n",
              "       0.00000e+00, 5.79500e+03, 0.00000e+00, 5.88480e+04, 9.43810e+04,\n",
              "       3.01630e+04, 5.33320e+04, 1.77200e+04, 3.38080e+04, 9.06840e+04,\n",
              "       4.39750e+04, 0.00000e+00, 0.00000e+00, 5.52600e+03, 0.00000e+00,\n",
              "       9.34150e+04, 4.07620e+04, 0.00000e+00, 8.63020e+04, 0.00000e+00,\n",
              "       9.75500e+03, 6.99450e+04, 2.39500e+03, 0.00000e+00, 8.03490e+04,\n",
              "       8.55540e+04, 5.04960e+04, 6.77160e+04, 9.39470e+04, 3.53450e+04,\n",
              "       8.10070e+04, 1.19513e+05, 0.00000e+00, 0.00000e+00, 0.00000e+00,\n",
              "       0.00000e+00, 0.00000e+00, 1.18895e+05, 4.85090e+04, 1.00912e+05,\n",
              "       9.56490e+04, 0.00000e+00, 9.04950e+04, 0.00000e+00, 2.91320e+04,\n",
              "       2.38020e+04, 8.49920e+04, 5.43950e+04, 2.67310e+04, 4.43290e+04,\n",
              "       1.18236e+05, 1.13808e+05, 6.10000e+02, 0.00000e+00, 0.00000e+00,\n",
              "       1.28870e+04, 7.96070e+04, 9.09240e+04, 4.27330e+04, 0.00000e+00,\n",
              "       0.00000e+00, 1.17714e+05, 1.13885e+05, 0.00000e+00, 3.05110e+04,\n",
              "       7.48670e+04, 1.19760e+05, 8.35600e+03, 6.42470e+04, 8.86610e+04,\n",
              "       4.53900e+03, 1.10116e+05, 3.32150e+04, 9.20010e+04, 0.00000e+00,\n",
              "       8.17080e+04, 7.06410e+04, 0.00000e+00, 9.12770e+04, 2.65440e+04,\n",
              "       5.25960e+04, 4.75030e+04, 8.90560e+04, 2.88340e+04, 1.10564e+05,\n",
              "       5.66380e+04, 1.73570e+04, 7.40150e+04, 1.51960e+04, 0.00000e+00,\n",
              "       1.08210e+04, 0.00000e+00, 0.00000e+00, 9.59500e+03, 9.90520e+04,\n",
              "       5.23890e+04, 1.19945e+05, 9.60050e+04, 3.16390e+04, 0.00000e+00,\n",
              "       8.01870e+04, 0.00000e+00, 5.82120e+04, 6.16720e+04, 3.20170e+04,\n",
              "       0.00000e+00, 5.69440e+04, 0.00000e+00, 8.65190e+04, 4.82100e+03,\n",
              "       1.01025e+05, 3.07050e+04, 0.00000e+00, 3.25550e+04, 1.03389e+05,\n",
              "       0.00000e+00, 5.52890e+04, 0.00000e+00, 0.00000e+00, 1.15930e+05,\n",
              "       6.64370e+04, 9.68000e+04, 1.42370e+04, 1.98960e+04, 1.13045e+05,\n",
              "       1.14942e+05, 3.17300e+03, 8.36110e+04, 2.53560e+04, 8.86340e+04,\n",
              "       2.31400e+03, 2.62700e+03, 5.20340e+04, 0.00000e+00, 0.00000e+00,\n",
              "       7.95770e+04, 1.08201e+05, 7.64530e+04, 5.76830e+04, 9.66100e+04,\n",
              "       1.09001e+05, 2.62120e+04, 4.59710e+04, 4.91820e+04, 4.99070e+04,\n",
              "       3.86200e+04, 6.09960e+04, 7.39140e+04, 1.07392e+05, 9.14600e+03,\n",
              "       0.00000e+00, 1.79240e+04, 0.00000e+00, 1.16949e+05, 2.04760e+04,\n",
              "       5.28040e+04, 8.84900e+03, 9.17240e+04, 3.20560e+04, 7.48860e+04,\n",
              "       0.00000e+00, 0.00000e+00, 5.21890e+04, 8.35590e+04, 0.00000e+00,\n",
              "       2.03280e+04, 0.00000e+00, 7.55770e+04, 3.36590e+04, 1.04341e+05,\n",
              "       2.55100e+04, 1.89650e+04, 8.71610e+04, 6.65200e+03, 5.57380e+04,\n",
              "       0.00000e+00, 0.00000e+00, 0.00000e+00, 6.43200e+04, 0.00000e+00,\n",
              "       6.86780e+04, 7.16970e+04, 0.00000e+00, 3.47830e+04, 3.37720e+04,\n",
              "       8.51270e+04, 1.36060e+04, 3.56470e+04, 9.51280e+04, 1.40460e+04,\n",
              "       4.11940e+04, 0.00000e+00, 9.61000e+04, 1.03900e+05, 4.38140e+04,\n",
              "       2.46380e+04, 0.00000e+00, 1.10966e+05, 1.59870e+04, 5.33690e+04,\n",
              "       1.00770e+04, 7.15440e+04, 1.07000e+02, 8.39400e+03, 4.14980e+04,\n",
              "       1.16002e+05, 1.00858e+05, 6.74750e+04, 8.49700e+03, 4.42000e+03,\n",
              "       0.00000e+00, 5.85370e+04, 0.00000e+00, 0.00000e+00, 1.12016e+05,\n",
              "       9.18400e+04, 1.12787e+05, 0.00000e+00, 0.00000e+00, 9.29300e+03,\n",
              "       0.00000e+00, 5.50830e+04, 4.87960e+04, 0.00000e+00, 8.96850e+04,\n",
              "       8.53840e+04, 9.81080e+04, 7.12800e+04, 2.75050e+04, 2.99810e+04,\n",
              "       5.26370e+04, 7.68500e+03, 5.01880e+04])"
            ]
          },
          "metadata": {},
          "execution_count": 192
        }
      ],
      "source": [
        "km"
      ]
    },
    {
      "cell_type": "code",
      "execution_count": null,
      "metadata": {
        "id": "FXjYowRDltjZ"
      },
      "outputs": [],
      "source": [
        "anos = np.loadtxt('carros-anos.txt', dtype = int)"
      ]
    },
    {
      "cell_type": "code",
      "execution_count": null,
      "metadata": {
        "id": "f_d2Ya-vltjb",
        "colab": {
          "base_uri": "https://localhost:8080/"
        },
        "outputId": "f4fc16bf-04d3-404d-8ae5-fc1bdb2ce519"
      },
      "outputs": [
        {
          "output_type": "execute_result",
          "data": {
            "text/plain": [
              "array([2003, 1991, 1990, 2019, 2006, 2012, 2019, 2009, 2010, 2011, 2002,\n",
              "       2007, 2001, 2019, 2009, 2016, 2012, 2019, 2016, 2017, 2002, 2019,\n",
              "       1994, 1991, 2019, 2019, 2016, 2019, 2002, 1991, 1997, 1995, 2018,\n",
              "       1991, 2014, 1995, 2019, 2019, 2009, 2019, 2013, 2003, 2019, 2002,\n",
              "       2019, 2002, 2004, 2001, 2019, 2003, 2009, 2006, 2000, 2006, 2010,\n",
              "       1994, 2007, 2019, 2019, 2019, 2019, 2019, 2017, 2011, 2001, 1996,\n",
              "       2019, 1994, 2019, 2007, 1994, 2007, 1997, 2006, 2013, 1994, 2008,\n",
              "       2008, 2019, 2019, 1999, 2007, 1993, 1995, 2019, 2019, 2016, 2011,\n",
              "       2019, 2002, 2013, 2017, 2016, 2008, 2018, 2003, 2003, 2004, 2010,\n",
              "       2019, 2006, 2001, 2019, 2015, 2018, 2017, 1992, 2001, 1993, 1995,\n",
              "       2003, 2014, 2008, 2013, 2019, 2017, 2019, 2019, 2006, 2015, 2007,\n",
              "       2005, 2017, 1998, 2019, 1999, 2019, 2009, 2003, 1994, 2019, 1994,\n",
              "       2019, 2015, 1996, 1997, 1993, 2019, 1992, 1995, 2019, 1990, 2019,\n",
              "       2019, 1991, 1990, 2012, 2007, 2013, 2000, 2002, 1996, 1996, 2015,\n",
              "       1993, 2013, 2013, 2009, 2019, 2019, 2002, 1997, 1998, 2004, 1996,\n",
              "       2015, 2016, 2005, 1999, 1995, 1993, 2004, 2013, 1998, 2018, 2019,\n",
              "       2018, 2019, 1990, 2009, 1990, 2006, 2002, 1991, 1992, 2019, 2019,\n",
              "       2005, 2010, 2019, 2016, 2019, 2010, 1994, 2001, 2014, 1996, 1993,\n",
              "       1993, 2001, 2019, 2019, 2019, 2007, 2019, 2016, 2014, 2019, 2015,\n",
              "       2015, 1996, 2002, 2005, 1995, 1999, 2005, 2019, 1997, 1990, 2001,\n",
              "       2013, 2019, 2017, 2011, 2005, 2007, 1993, 1991, 1991, 1997, 2000,\n",
              "       2007, 2006, 2015, 2008, 2019, 1996, 2019, 2019, 2014, 2004, 2008,\n",
              "       2019, 2019, 2012, 2019, 1996, 2011, 2019, 2010, 2007, 1994, 2007,\n",
              "       2014, 1991, 2002, 1996, 1992])"
            ]
          },
          "metadata": {},
          "execution_count": 194
        }
      ],
      "source": [
        "anos"
      ]
    },
    {
      "cell_type": "markdown",
      "metadata": {
        "id": "wMdUsAq4ltjs"
      },
      "source": [
        "### Obtendo a quilometragem média por ano"
      ]
    },
    {
      "cell_type": "code",
      "execution_count": null,
      "metadata": {
        "id": "cD2M3s3Fltjt",
        "colab": {
          "base_uri": "https://localhost:8080/"
        },
        "outputId": "12d7c5ff-5031-40d1-c0a8-a6026379debe"
      },
      "outputs": [
        {
          "output_type": "stream",
          "name": "stderr",
          "text": [
            "/usr/local/lib/python3.7/dist-packages/ipykernel_launcher.py:1: RuntimeWarning: invalid value encountered in true_divide\n",
            "  \"\"\"Entry point for launching an IPython kernel.\n"
          ]
        }
      ],
      "source": [
        "km_media = km / (2019 - anos)"
      ]
    },
    {
      "cell_type": "code",
      "execution_count": null,
      "metadata": {
        "id": "65IyPzKKltjv",
        "colab": {
          "base_uri": "https://localhost:8080/"
        },
        "outputId": "1e48246e-413b-4f45-b65a-10dd1847291d"
      },
      "outputs": [
        {
          "output_type": "execute_result",
          "data": {
            "text/plain": [
              "array([2.77562500e+03, 2.04000000e+02, 1.28010345e+03,            nan,\n",
              "       1.98130769e+03, 1.53257143e+03,            nan, 7.75990000e+03,\n",
              "       1.10218889e+04, 4.74725000e+03, 7.56411765e+02, 6.71000000e+02,\n",
              "       4.98738889e+03,            nan, 4.14570000e+03, 3.85356667e+04,\n",
              "       6.63557143e+03,            nan, 1.23620000e+04, 7.58650000e+03,\n",
              "       5.95252941e+03,            nan, 3.92316000e+03, 3.67710714e+03,\n",
              "                  nan,            nan, 1.93166667e+03,            nan,\n",
              "       3.46164706e+03, 3.37075000e+03, 1.37104545e+03, 2.22216667e+03,\n",
              "       1.77200000e+04, 1.20742857e+03, 1.81368000e+04, 1.83229167e+03,\n",
              "                  nan,            nan, 5.52600000e+02,            nan,\n",
              "       1.55691667e+04, 2.54762500e+03,            nan, 5.07658824e+03,\n",
              "                  nan, 5.73823529e+02, 4.66300000e+03, 1.33055556e+02,\n",
              "                  nan, 5.02181250e+03, 8.55540000e+03, 3.88430769e+03,\n",
              "       3.56400000e+03, 7.22669231e+03, 3.92722222e+03, 3.24028000e+03,\n",
              "       9.95941667e+03,            nan,            nan,            nan,\n",
              "                  nan,            nan, 5.94475000e+04, 6.06362500e+03,\n",
              "       5.60622222e+03, 4.15865217e+03,            nan, 3.61980000e+03,\n",
              "                  nan, 2.42766667e+03, 9.52080000e+02, 7.08266667e+03,\n",
              "       2.47250000e+03, 2.05623077e+03, 7.38816667e+03, 4.72944000e+03,\n",
              "       1.03461818e+04, 5.54545455e+01,            nan,            nan,\n",
              "       6.44350000e+02, 6.63391667e+03, 3.49707692e+03, 1.78054167e+03,\n",
              "                  nan,            nan, 3.92380000e+04, 1.42356250e+04,\n",
              "                  nan, 1.79476471e+03, 1.24778333e+04, 5.98800000e+04,\n",
              "       2.78533333e+03, 5.84063636e+03, 8.86610000e+04, 2.83687500e+02,\n",
              "       6.88225000e+03, 2.21433333e+03, 1.02223333e+04,            nan,\n",
              "       6.28523077e+03, 3.92450000e+03,            nan, 2.28192500e+04,\n",
              "       2.65440000e+04, 2.62980000e+04, 1.75937037e+03, 4.94755556e+03,\n",
              "       1.10900000e+03, 4.60683333e+03, 3.53987500e+03, 3.47140000e+03,\n",
              "       6.72863636e+03, 2.53266667e+03,            nan, 5.41050000e+03,\n",
              "                  nan,            nan, 7.38076923e+02, 2.47630000e+04,\n",
              "       4.36575000e+03, 8.56750000e+03, 4.80025000e+04, 1.50661905e+03,\n",
              "                  nan, 4.00935000e+03,            nan, 5.82120000e+03,\n",
              "       3.85450000e+03, 1.28068000e+03,            nan, 2.27776000e+03,\n",
              "                  nan, 2.16297500e+04, 2.09608696e+02, 4.59204545e+03,\n",
              "       1.18096154e+03,            nan, 1.20574074e+03, 4.30787500e+03,\n",
              "                  nan, 1.90651724e+03,            nan,            nan,\n",
              "       4.14035714e+03, 2.29093103e+03, 1.38285714e+04, 1.18641667e+03,\n",
              "       3.31600000e+03, 5.94973684e+03, 6.76129412e+03, 1.37956522e+02,\n",
              "       3.63526087e+03, 6.33900000e+03, 3.40900000e+03, 3.85666667e+02,\n",
              "       4.37833333e+02, 5.20340000e+03,            nan,            nan,\n",
              "       4.68100000e+03, 4.91822727e+03, 3.64061905e+03, 3.84553333e+03,\n",
              "       4.20043478e+03, 2.72502500e+04, 8.73733333e+03, 3.28364286e+03,\n",
              "       2.45910000e+03, 2.07945833e+03, 1.48538462e+03, 4.06640000e+03,\n",
              "       1.23190000e+04, 5.11390476e+03, 9.14600000e+03,            nan,\n",
              "       1.79240000e+04,            nan, 4.03272414e+03, 2.04760000e+03,\n",
              "       1.82082759e+03, 6.80692308e+02, 5.39552941e+03, 1.14485714e+03,\n",
              "       2.77355556e+03,            nan,            nan, 3.72778571e+03,\n",
              "       9.28433333e+03,            nan, 6.77600000e+03,            nan,\n",
              "       8.39744444e+03, 1.34636000e+03, 5.79672222e+03, 5.10200000e+03,\n",
              "       8.24565217e+02, 3.35234615e+03, 2.55846154e+02, 3.09655556e+03,\n",
              "                  nan,            nan,            nan, 5.36000000e+03,\n",
              "                  nan, 2.28926667e+04, 1.43394000e+04,            nan,\n",
              "       8.69575000e+03, 8.44300000e+03, 3.70117391e+03, 8.00352941e+02,\n",
              "       2.54621429e+03, 3.96366667e+03, 7.02300000e+02, 2.94242857e+03,\n",
              "                  nan, 4.36818182e+03, 3.58275862e+03, 2.43411111e+03,\n",
              "       4.10633333e+03,            nan, 5.54830000e+04, 1.99837500e+03,\n",
              "       3.81207143e+03, 8.39750000e+02, 2.75169231e+03, 3.82142857e+00,\n",
              "       2.99785714e+02, 1.88627273e+03, 6.10536842e+03, 8.40483333e+03,\n",
              "       5.19038462e+03, 2.12425000e+03, 4.01818182e+02,            nan,\n",
              "       2.54508696e+03,            nan,            nan, 2.24032000e+04,\n",
              "       6.12266667e+03, 1.02533636e+04,            nan,            nan,\n",
              "       1.32757143e+03,            nan, 2.39491304e+03, 6.09950000e+03,\n",
              "                  nan, 9.96500000e+03, 7.11533333e+03, 3.92432000e+03,\n",
              "       5.94000000e+03, 5.50100000e+03, 1.07075000e+03, 3.09629412e+03,\n",
              "       3.34130435e+02, 1.85881481e+03])"
            ]
          },
          "metadata": {},
          "execution_count": 196
        }
      ],
      "source": [
        "km_media"
      ]
    },
    {
      "cell_type": "code",
      "execution_count": null,
      "metadata": {
        "id": "Z0JCmAWvltjy",
        "colab": {
          "base_uri": "https://localhost:8080/"
        },
        "outputId": "d0724910-18b8-4f8f-a521-dad43ce4c03c"
      },
      "outputs": [
        {
          "output_type": "execute_result",
          "data": {
            "text/plain": [
              "numpy.ndarray"
            ]
          },
          "metadata": {},
          "execution_count": 197
        }
      ],
      "source": [
        "type(km_media)"
      ]
    },
    {
      "cell_type": "markdown",
      "metadata": {
        "id": "KdG5NmmGltj0"
      },
      "source": [
        "# <font color=green> 2. CARACTERÍSTICAS BÁSICAS DA LINGUAGEM\n",
        "---"
      ]
    },
    {
      "cell_type": "markdown",
      "metadata": {
        "id": "X1K5kisFltj1"
      },
      "source": [
        "# 2.1 Operações matemáticas\n",
        "\n",
        "### Operadores aritméticos: $+$, $-$, $*$, $/$, $**$, $\\%$, $//$"
      ]
    },
    {
      "cell_type": "markdown",
      "metadata": {
        "id": "8YCDVpbYltj1"
      },
      "source": [
        "### Adição ($+$)"
      ]
    },
    {
      "cell_type": "code",
      "execution_count": null,
      "metadata": {
        "id": "h6DsMqhaltj2",
        "colab": {
          "base_uri": "https://localhost:8080/"
        },
        "outputId": "11ceab06-b16d-4982-8403-a26d362cfaf9"
      },
      "outputs": [
        {
          "output_type": "execute_result",
          "data": {
            "text/plain": [
              "4"
            ]
          },
          "metadata": {},
          "execution_count": 198
        }
      ],
      "source": [
        "2+2"
      ]
    },
    {
      "cell_type": "markdown",
      "metadata": {
        "id": "WeJG-WJBltj8"
      },
      "source": [
        "### Subtração ($-$)"
      ]
    },
    {
      "cell_type": "code",
      "execution_count": null,
      "metadata": {
        "id": "zoB7_OcRltj9",
        "colab": {
          "base_uri": "https://localhost:8080/"
        },
        "outputId": "4b89cd30-740b-4cad-cfa0-417e2731e38a"
      },
      "outputs": [
        {
          "output_type": "execute_result",
          "data": {
            "text/plain": [
              "-1"
            ]
          },
          "metadata": {},
          "execution_count": 199
        }
      ],
      "source": [
        "2-3"
      ]
    },
    {
      "cell_type": "markdown",
      "metadata": {
        "id": "zuv8N7fjltkC"
      },
      "source": [
        "### Multiplicação ($*$)"
      ]
    },
    {
      "cell_type": "code",
      "execution_count": null,
      "metadata": {
        "id": "TAWG7xSTltkD",
        "colab": {
          "base_uri": "https://localhost:8080/"
        },
        "outputId": "e93c74df-1762-467e-b7c6-49beea549f0f"
      },
      "outputs": [
        {
          "output_type": "execute_result",
          "data": {
            "text/plain": [
              "54"
            ]
          },
          "metadata": {},
          "execution_count": 200
        }
      ],
      "source": [
        "9*6"
      ]
    },
    {
      "cell_type": "markdown",
      "metadata": {
        "id": "dMp7BsnwltkF"
      },
      "source": [
        "### Divisão ($/$) e ($//$)\n",
        "A operação divisão sempre retorna um número de ponto flutuante"
      ]
    },
    {
      "cell_type": "code",
      "execution_count": null,
      "metadata": {
        "id": "DD5kx3H3ltkF",
        "colab": {
          "base_uri": "https://localhost:8080/"
        },
        "outputId": "7e235a7f-6508-4651-8056-b2df6d172bfd"
      },
      "outputs": [
        {
          "output_type": "execute_result",
          "data": {
            "text/plain": [
              "3.3333333333333335"
            ]
          },
          "metadata": {},
          "execution_count": 201
        }
      ],
      "source": [
        "10/3"
      ]
    },
    {
      "cell_type": "code",
      "execution_count": null,
      "metadata": {
        "id": "ji0CYH3UltkI",
        "colab": {
          "base_uri": "https://localhost:8080/"
        },
        "outputId": "cb78a39f-97f2-45ba-d50f-71c1bd5dc901"
      },
      "outputs": [
        {
          "output_type": "execute_result",
          "data": {
            "text/plain": [
              "3"
            ]
          },
          "metadata": {},
          "execution_count": 202
        }
      ],
      "source": [
        "10//3"
      ]
    },
    {
      "cell_type": "markdown",
      "metadata": {
        "id": "3DSO7TcvltkL"
      },
      "source": [
        "### Exponenciação ($**$)"
      ]
    },
    {
      "cell_type": "code",
      "execution_count": null,
      "metadata": {
        "id": "tBKvl2TWltkM",
        "colab": {
          "base_uri": "https://localhost:8080/"
        },
        "outputId": "c2e69448-a0da-4a61-a177-3efcee1b7a5d"
      },
      "outputs": [
        {
          "output_type": "execute_result",
          "data": {
            "text/plain": [
              "8"
            ]
          },
          "metadata": {},
          "execution_count": 203
        }
      ],
      "source": [
        "2**3"
      ]
    },
    {
      "cell_type": "markdown",
      "metadata": {
        "id": "MhD56p-9ltkQ"
      },
      "source": [
        "### Resto da divisão ($\\%$)"
      ]
    },
    {
      "cell_type": "code",
      "execution_count": null,
      "metadata": {
        "id": "bfa7phO6ltkR",
        "colab": {
          "base_uri": "https://localhost:8080/"
        },
        "outputId": "747f1ada-cee3-474f-d9b8-1e16cd57b328"
      },
      "outputs": [
        {
          "output_type": "execute_result",
          "data": {
            "text/plain": [
              "1"
            ]
          },
          "metadata": {},
          "execution_count": 204
        }
      ],
      "source": [
        "10%3"
      ]
    },
    {
      "cell_type": "code",
      "execution_count": null,
      "metadata": {
        "id": "khIEx6olltkT",
        "colab": {
          "base_uri": "https://localhost:8080/"
        },
        "outputId": "38ad686d-7a6b-47ba-ddcd-ce8507f20ea6"
      },
      "outputs": [
        {
          "output_type": "execute_result",
          "data": {
            "text/plain": [
              "1"
            ]
          },
          "metadata": {},
          "execution_count": 205
        }
      ],
      "source": [
        "7%3"
      ]
    },
    {
      "cell_type": "markdown",
      "metadata": {
        "id": "8pVVp5fsltkV"
      },
      "source": [
        "### Expressões matemáticas"
      ]
    },
    {
      "cell_type": "code",
      "execution_count": null,
      "metadata": {
        "id": "jlQTk4gNltkW",
        "colab": {
          "base_uri": "https://localhost:8080/"
        },
        "outputId": "0c81c888-f507-4742-8cec-8271e662076b"
      },
      "outputs": [
        {
          "output_type": "execute_result",
          "data": {
            "text/plain": [
              "16"
            ]
          },
          "metadata": {},
          "execution_count": 206
        }
      ],
      "source": [
        "5*2+3*2"
      ]
    },
    {
      "cell_type": "code",
      "execution_count": null,
      "metadata": {
        "id": "kkCb6Crgltka",
        "colab": {
          "base_uri": "https://localhost:8080/"
        },
        "outputId": "28670ea5-23eb-4c3d-e269-70582934c349"
      },
      "outputs": [
        {
          "output_type": "execute_result",
          "data": {
            "text/plain": [
              "16"
            ]
          },
          "metadata": {},
          "execution_count": 207
        }
      ],
      "source": [
        "(5*2)+(3*2)"
      ]
    },
    {
      "cell_type": "code",
      "execution_count": null,
      "metadata": {
        "id": "UD12tlgAltkd",
        "colab": {
          "base_uri": "https://localhost:8080/"
        },
        "outputId": "9cd70c35-e2d2-45f4-d619-941350d9c4f3"
      },
      "outputs": [
        {
          "output_type": "execute_result",
          "data": {
            "text/plain": [
              "50"
            ]
          },
          "metadata": {},
          "execution_count": 208
        }
      ],
      "source": [
        "5*(2+3)*2"
      ]
    },
    {
      "cell_type": "markdown",
      "metadata": {
        "id": "a5tKQ5Beltkf"
      },
      "source": [
        "### A variável _\n",
        "\n",
        "No modo interativo, o último resultado impresso é atribuído à variável _"
      ]
    },
    {
      "cell_type": "code",
      "execution_count": null,
      "metadata": {
        "id": "VkHEx516ltkg",
        "colab": {
          "base_uri": "https://localhost:8080/"
        },
        "outputId": "7bf88b89-91ed-4f8a-8cd5-7d6720c16300"
      },
      "outputs": [
        {
          "output_type": "execute_result",
          "data": {
            "text/plain": [
              "10"
            ]
          },
          "metadata": {},
          "execution_count": 209
        }
      ],
      "source": [
        "5*2"
      ]
    },
    {
      "cell_type": "code",
      "execution_count": null,
      "metadata": {
        "id": "dFShsobXltki",
        "colab": {
          "base_uri": "https://localhost:8080/"
        },
        "outputId": "ef917c28-d739-411f-b196-d59417973429"
      },
      "outputs": [
        {
          "output_type": "execute_result",
          "data": {
            "text/plain": [
              "16"
            ]
          },
          "metadata": {},
          "execution_count": 210
        }
      ],
      "source": [
        "_ + 3*2"
      ]
    },
    {
      "cell_type": "code",
      "execution_count": null,
      "metadata": {
        "id": "hJIpR3KUltkk",
        "colab": {
          "base_uri": "https://localhost:8080/"
        },
        "outputId": "f864fc93-2e44-4f98-f305-2b03d84855dc"
      },
      "outputs": [
        {
          "output_type": "execute_result",
          "data": {
            "text/plain": [
              "8.0"
            ]
          },
          "metadata": {},
          "execution_count": 211
        }
      ],
      "source": [
        "_ / 2 "
      ]
    },
    {
      "cell_type": "markdown",
      "metadata": {
        "id": "MUrQAf6Mltkm"
      },
      "source": [
        "# 2.2 Variáveis "
      ]
    },
    {
      "cell_type": "markdown",
      "metadata": {
        "id": "qaVLKIeultkn"
      },
      "source": [
        "### Nomes de variáveis\n",
        "\n",
        "- Nomes de variáveis pode começar com letras (a - z, A - Z) ou o caractere *underscore* (_):\n",
        "\n",
        "    > Altura\n",
        "    >\n",
        "    > _peso\n",
        "    \n",
        "- O restante do nome pode conter letras, números e o caractere \"_\":\n",
        "\n",
        "    > nome_da_variavel\n",
        "    >\n",
        "    > _valor\n",
        "    >\n",
        "    > dia_28_11_\n",
        "    \n",
        "\n",
        "- O nomes são *case sensitive*:\n",
        "\n",
        "    > Nome_Da_Variável $\\ne$ nome_da_variavel $\\ne$ NOME_DA_VARIAVEL\n",
        "    \n",
        "### <font color=red>Observações:\n",
        "- Existem algumas palavras reservadas da linguagem que não podem ser utilizadas como nomes de variável:\n",
        "\n",
        "| |Lista de palavras <br>reservadas em Python| |\n",
        "|:-------------:|:------------:|:-------------:|\n",
        "| and           | as           | not           | \n",
        "| assert        | finally      | or            | \n",
        "| break         | for          | pass          | \n",
        "| class         | from         | nonlocal      | \n",
        "| continue      | global       | raise         | \n",
        "| def           | if           | return        | \n",
        "| del           | import       | try           | \n",
        "| elif          | in           | while         | \n",
        "| else          | is           | with          | \n",
        "| except        | lambda       | yield         | \n",
        "| False         | True         | None          | "
      ]
    },
    {
      "cell_type": "markdown",
      "metadata": {
        "id": "3frWjfAtltkn"
      },
      "source": [
        "### Declaração de variáveis\n",
        "\n",
        "### Operadores de atribuição: $=$, $+=$, $-=$, $*=$, $/=$, $**=$, $\\%=$, $//=$"
      ]
    },
    {
      "cell_type": "code",
      "execution_count": null,
      "metadata": {
        "id": "7VIcrXNHltko"
      },
      "outputs": [],
      "source": [
        "ano_atual = 2019\n",
        "ano_fabricacao = 2003\n",
        "km_total = 44410.0"
      ]
    },
    {
      "cell_type": "code",
      "execution_count": null,
      "metadata": {
        "id": "atVoqp6bltkq",
        "colab": {
          "base_uri": "https://localhost:8080/"
        },
        "outputId": "05d99b58-527e-4d41-c7a9-dfd7e4902570"
      },
      "outputs": [
        {
          "output_type": "execute_result",
          "data": {
            "text/plain": [
              "2019"
            ]
          },
          "metadata": {},
          "execution_count": 213
        }
      ],
      "source": [
        "ano_atual"
      ]
    },
    {
      "cell_type": "code",
      "execution_count": null,
      "metadata": {
        "id": "_t82qXrOltkt",
        "colab": {
          "base_uri": "https://localhost:8080/"
        },
        "outputId": "e3d37af3-579e-4981-8477-b521feddae39"
      },
      "outputs": [
        {
          "output_type": "execute_result",
          "data": {
            "text/plain": [
              "2003"
            ]
          },
          "metadata": {},
          "execution_count": 214
        }
      ],
      "source": [
        "ano_fabricacao"
      ]
    },
    {
      "cell_type": "code",
      "execution_count": null,
      "metadata": {
        "id": "1anwuDHiltkv",
        "colab": {
          "base_uri": "https://localhost:8080/"
        },
        "outputId": "58c9ad3b-dec1-4dd7-8d11-d820000d82f9"
      },
      "outputs": [
        {
          "output_type": "execute_result",
          "data": {
            "text/plain": [
              "44410.0"
            ]
          },
          "metadata": {},
          "execution_count": 215
        }
      ],
      "source": [
        "km_total"
      ]
    },
    {
      "cell_type": "code",
      "source": [
        "km_media = km_total / (ano_atual - ano_fabricacao)\n",
        "km_media"
      ],
      "metadata": {
        "id": "lXgNWpYb3sRv",
        "colab": {
          "base_uri": "https://localhost:8080/"
        },
        "outputId": "6d9aadfa-279d-4eae-84cc-2c88aad4a1a6"
      },
      "execution_count": null,
      "outputs": [
        {
          "output_type": "execute_result",
          "data": {
            "text/plain": [
              "2775.625"
            ]
          },
          "metadata": {},
          "execution_count": 216
        }
      ]
    },
    {
      "cell_type": "code",
      "source": [
        "ano_atual = 2022\n",
        "ano_fabricacao = 2011\n",
        "km_total = 44410.0\n",
        "km_media = km_total / (ano_atual - ano_fabricacao)\n",
        "km_media"
      ],
      "metadata": {
        "id": "siuygYzU4IaC",
        "colab": {
          "base_uri": "https://localhost:8080/"
        },
        "outputId": "104676ea-c108-4592-bccd-e292cc8bfe3b"
      },
      "execution_count": null,
      "outputs": [
        {
          "output_type": "execute_result",
          "data": {
            "text/plain": [
              "4037.2727272727275"
            ]
          },
          "metadata": {},
          "execution_count": 217
        }
      ]
    },
    {
      "cell_type": "code",
      "source": [
        "ano_atual = 2022\n",
        "ano_fabricacao = 2011\n",
        "km_total = 44410.0\n",
        "km_media = km_total / (ano_atual - ano_fabricacao)\n",
        "km_total = km_total + km_media\n",
        "km_total"
      ],
      "metadata": {
        "id": "TtSptdzV4ipG",
        "colab": {
          "base_uri": "https://localhost:8080/"
        },
        "outputId": "b8974d29-53dc-4018-a67f-598767ea2e73"
      },
      "execution_count": null,
      "outputs": [
        {
          "output_type": "execute_result",
          "data": {
            "text/plain": [
              "48447.27272727273"
            ]
          },
          "metadata": {},
          "execution_count": 218
        }
      ]
    },
    {
      "cell_type": "code",
      "source": [
        "ano_atual = 2022\n",
        "ano_fabricacao = 2011\n",
        "km_total = 44410.0\n",
        "km_media = km_total / (ano_atual - ano_fabricacao)\n",
        "km_total += km_media\n",
        "km_total\n"
      ],
      "metadata": {
        "id": "6lr1I4mf5Jvt",
        "colab": {
          "base_uri": "https://localhost:8080/"
        },
        "outputId": "9a454a25-c7c5-4164-b56d-96976218866c"
      },
      "execution_count": null,
      "outputs": [
        {
          "output_type": "execute_result",
          "data": {
            "text/plain": [
              "48447.27272727273"
            ]
          },
          "metadata": {},
          "execution_count": 219
        }
      ]
    },
    {
      "cell_type": "markdown",
      "metadata": {
        "id": "gCBkfq_8ltky"
      },
      "source": [
        "# $$km_{média} = \\frac {km_{total}}{(Ano_{atual} - Ano_{fabricação})}$$"
      ]
    },
    {
      "cell_type": "markdown",
      "metadata": {
        "id": "zswWS4hNltky"
      },
      "source": [
        "### Operações com variáveis"
      ]
    },
    {
      "cell_type": "code",
      "execution_count": null,
      "metadata": {
        "id": "HxxU0rnfltkz"
      },
      "outputs": [],
      "source": []
    },
    {
      "cell_type": "code",
      "execution_count": null,
      "metadata": {
        "id": "_2Qhb32jltk1"
      },
      "outputs": [],
      "source": []
    },
    {
      "cell_type": "code",
      "execution_count": null,
      "metadata": {
        "id": "nCJzA7dyltk3"
      },
      "outputs": [],
      "source": []
    },
    {
      "cell_type": "code",
      "execution_count": null,
      "metadata": {
        "id": "ifRwQ0vEltk9"
      },
      "outputs": [],
      "source": []
    },
    {
      "cell_type": "markdown",
      "metadata": {
        "id": "fDBrHWSBltlB"
      },
      "source": [
        "### Conclusão:\n",
        "```\n",
        "\"valor = valor + 1\" é equivalente a \"valor += 1\"\n",
        "```"
      ]
    },
    {
      "cell_type": "markdown",
      "metadata": {
        "id": "uVAyJbmAltlC"
      },
      "source": [
        "### Declaração múltipla"
      ]
    },
    {
      "cell_type": "code",
      "execution_count": null,
      "metadata": {
        "id": "oMWEzjPOltlC"
      },
      "outputs": [],
      "source": [
        "ano_atual, ano_fabricacao, km_total = 2019, 2003, 44410.0"
      ]
    },
    {
      "cell_type": "code",
      "execution_count": null,
      "metadata": {
        "id": "9ZKlHkLultlE",
        "colab": {
          "base_uri": "https://localhost:8080/"
        },
        "outputId": "057ee48d-d24e-40e9-b6d5-1c36d597154e"
      },
      "outputs": [
        {
          "output_type": "execute_result",
          "data": {
            "text/plain": [
              "2019"
            ]
          },
          "metadata": {},
          "execution_count": 221
        }
      ],
      "source": [
        "ano_atual"
      ]
    },
    {
      "cell_type": "code",
      "execution_count": null,
      "metadata": {
        "id": "-mcMuW9nltlG"
      },
      "outputs": [],
      "source": []
    },
    {
      "cell_type": "code",
      "execution_count": null,
      "metadata": {
        "id": "WFFavLIvltlL"
      },
      "outputs": [],
      "source": []
    },
    {
      "cell_type": "code",
      "execution_count": null,
      "metadata": {
        "id": "iFawOJe6ltlO"
      },
      "outputs": [],
      "source": []
    },
    {
      "cell_type": "code",
      "source": [],
      "metadata": {
        "id": "3FHiYvd33rST"
      },
      "execution_count": null,
      "outputs": []
    },
    {
      "cell_type": "markdown",
      "metadata": {
        "id": "uoRXMeRDltlQ"
      },
      "source": [
        "# 2.3 Tipos de dados"
      ]
    },
    {
      "cell_type": "markdown",
      "metadata": {
        "id": "sW_G6EjWltlQ"
      },
      "source": [
        "Os tipos de dados especificam como números e caracteres serão armazenados e manipulados dentro de um programa. Os tipos de dados básicos do Python são:\n",
        "\n",
        "1. **Números**\n",
        "    1. ***int*** - Inteiros\n",
        "    - ***float*** - Ponto flutuante\n",
        "- **Booleanos** - Assume os valores True ou False. Essencial quando começarmos a trabalhar com declarações condicionais\n",
        "- ***Strings*** - Sequência de um ou mais caracteres que pode incluir letras, números e outros tipos de caracteres. Representa um texto.\n",
        "- **None** - Representa a ausência de valor"
      ]
    },
    {
      "cell_type": "markdown",
      "metadata": {
        "id": "-HRRxQOtltlQ"
      },
      "source": [
        "### Números"
      ]
    },
    {
      "cell_type": "code",
      "execution_count": null,
      "metadata": {
        "id": "5PKIcIuUltlR",
        "colab": {
          "base_uri": "https://localhost:8080/"
        },
        "outputId": "7b80b010-1161-4040-b87d-abf06c4fa63f"
      },
      "outputs": [
        {
          "output_type": "execute_result",
          "data": {
            "text/plain": [
              "int"
            ]
          },
          "metadata": {},
          "execution_count": 222
        }
      ],
      "source": [
        "ano_atual = 2019\n",
        "type(ano_atual)"
      ]
    },
    {
      "cell_type": "code",
      "execution_count": null,
      "metadata": {
        "id": "G32Yd1g0ltlT",
        "colab": {
          "base_uri": "https://localhost:8080/"
        },
        "outputId": "0f0a1b88-0376-453f-cd68-7c1b1523a954"
      },
      "outputs": [
        {
          "output_type": "execute_result",
          "data": {
            "text/plain": [
              "float"
            ]
          },
          "metadata": {},
          "execution_count": 223
        }
      ],
      "source": [
        "km_total = 44410.0\n",
        "type(km_total)"
      ]
    },
    {
      "cell_type": "code",
      "execution_count": null,
      "metadata": {
        "id": "b9_v__dEltlV"
      },
      "outputs": [],
      "source": []
    },
    {
      "cell_type": "code",
      "execution_count": null,
      "metadata": {
        "id": "A0nySb3LltlZ"
      },
      "outputs": [],
      "source": []
    },
    {
      "cell_type": "markdown",
      "metadata": {
        "id": "7X9iheAnltld"
      },
      "source": [
        "### Booleanos"
      ]
    },
    {
      "cell_type": "code",
      "execution_count": null,
      "metadata": {
        "id": "liUYdchPltle",
        "colab": {
          "base_uri": "https://localhost:8080/"
        },
        "outputId": "37900966-ef15-487b-e4dd-a65a3e4cc543"
      },
      "outputs": [
        {
          "output_type": "execute_result",
          "data": {
            "text/plain": [
              "bool"
            ]
          },
          "metadata": {},
          "execution_count": 224
        }
      ],
      "source": [
        "zero_km = True\n",
        "type(zero_km)"
      ]
    },
    {
      "cell_type": "code",
      "execution_count": null,
      "metadata": {
        "id": "oZIQAghaltlh"
      },
      "outputs": [],
      "source": []
    },
    {
      "cell_type": "code",
      "execution_count": null,
      "metadata": {
        "id": "XCAYApe3ltlj"
      },
      "outputs": [],
      "source": []
    },
    {
      "cell_type": "code",
      "execution_count": null,
      "metadata": {
        "id": "mJ0nGEV7ltll"
      },
      "outputs": [],
      "source": []
    },
    {
      "cell_type": "markdown",
      "metadata": {
        "id": "Ipjq4eiSltlp"
      },
      "source": [
        "### Strings"
      ]
    },
    {
      "cell_type": "code",
      "execution_count": null,
      "metadata": {
        "id": "OeW_GQzOltlr",
        "colab": {
          "base_uri": "https://localhost:8080/",
          "height": 35
        },
        "outputId": "511509f9-3351-4f71-ecad-5814d31d7e73"
      },
      "outputs": [
        {
          "output_type": "execute_result",
          "data": {
            "text/plain": [
              "'Jetta \"Variant\"'"
            ],
            "application/vnd.google.colaboratory.intrinsic+json": {
              "type": "string"
            }
          },
          "metadata": {},
          "execution_count": 225
        }
      ],
      "source": [
        "nome = 'Jetta \"Variant\"'\n",
        "nome"
      ]
    },
    {
      "cell_type": "code",
      "execution_count": null,
      "metadata": {
        "id": "xF1Bi-Rkltlu"
      },
      "outputs": [],
      "source": [
        "# String com mais de uma linha\n",
        "\n",
        "carro = '''\n",
        "  Nome\n",
        "  Idade\n",
        "  Nota\n",
        "'''"
      ]
    },
    {
      "cell_type": "code",
      "execution_count": null,
      "metadata": {
        "id": "QlobSFUtltlw",
        "colab": {
          "base_uri": "https://localhost:8080/",
          "height": 35
        },
        "outputId": "5471053f-34b4-4a06-82d8-3f10af4e9a6c"
      },
      "outputs": [
        {
          "output_type": "execute_result",
          "data": {
            "text/plain": [
              "'\\n  Nome\\n  Idade\\n  Nota\\n'"
            ],
            "application/vnd.google.colaboratory.intrinsic+json": {
              "type": "string"
            }
          },
          "metadata": {},
          "execution_count": 227
        }
      ],
      "source": [
        "carro"
      ]
    },
    {
      "cell_type": "code",
      "execution_count": null,
      "metadata": {
        "id": "8LBWzzfbltly",
        "colab": {
          "base_uri": "https://localhost:8080/"
        },
        "outputId": "4ea57e23-c667-4463-b505-adaa260587ee"
      },
      "outputs": [
        {
          "output_type": "execute_result",
          "data": {
            "text/plain": [
              "str"
            ]
          },
          "metadata": {},
          "execution_count": 228
        }
      ],
      "source": [
        "type(carro)"
      ]
    },
    {
      "cell_type": "code",
      "execution_count": null,
      "metadata": {
        "id": "ycEhoxtUltl0"
      },
      "outputs": [],
      "source": []
    },
    {
      "cell_type": "code",
      "execution_count": null,
      "metadata": {
        "id": "bjZQzpuUltl2"
      },
      "outputs": [],
      "source": []
    },
    {
      "cell_type": "markdown",
      "metadata": {
        "id": "w6bJU-R9ltl5"
      },
      "source": [
        "### None"
      ]
    },
    {
      "cell_type": "code",
      "execution_count": null,
      "metadata": {
        "id": "RgeVhXGxltl5"
      },
      "outputs": [],
      "source": [
        "quilometragem = None"
      ]
    },
    {
      "cell_type": "code",
      "execution_count": null,
      "metadata": {
        "id": "MJI6PKS6ltl8",
        "colab": {
          "base_uri": "https://localhost:8080/"
        },
        "outputId": "cdfbc244-3987-4421-e464-aa2a5f369356"
      },
      "outputs": [
        {
          "output_type": "execute_result",
          "data": {
            "text/plain": [
              "NoneType"
            ]
          },
          "metadata": {},
          "execution_count": 230
        }
      ],
      "source": [
        "type(quilometragem)"
      ]
    },
    {
      "cell_type": "markdown",
      "metadata": {
        "id": "_ilupwV-ltl-"
      },
      "source": [
        "# 2.4 Conversão de tipos"
      ]
    },
    {
      "cell_type": "code",
      "execution_count": null,
      "metadata": {
        "id": "D5hq5Qbvltl-"
      },
      "outputs": [],
      "source": [
        "a = 10\n",
        "b = 20\n",
        "c = 'Python é '\n",
        "d = 'Legal'"
      ]
    },
    {
      "cell_type": "code",
      "execution_count": null,
      "metadata": {
        "id": "aJ0vi8_Nltl_",
        "colab": {
          "base_uri": "https://localhost:8080/"
        },
        "outputId": "090b9563-e55d-458d-8ff7-5b3f5a366f96"
      },
      "outputs": [
        {
          "output_type": "execute_result",
          "data": {
            "text/plain": [
              "int"
            ]
          },
          "metadata": {},
          "execution_count": 232
        }
      ],
      "source": [
        "type(a)"
      ]
    },
    {
      "cell_type": "code",
      "execution_count": null,
      "metadata": {
        "id": "NGseTO2SltmC",
        "colab": {
          "base_uri": "https://localhost:8080/"
        },
        "outputId": "5373ac54-2c1e-49b3-890d-ece5c47613ca"
      },
      "outputs": [
        {
          "output_type": "execute_result",
          "data": {
            "text/plain": [
              "30"
            ]
          },
          "metadata": {},
          "execution_count": 233
        }
      ],
      "source": [
        "a + b"
      ]
    },
    {
      "cell_type": "code",
      "execution_count": null,
      "metadata": {
        "id": "yaSBhwNWltmE",
        "colab": {
          "base_uri": "https://localhost:8080/",
          "height": 35
        },
        "outputId": "9ac60cd1-ee5a-4fe9-9ec5-2d46e8034233"
      },
      "outputs": [
        {
          "output_type": "execute_result",
          "data": {
            "text/plain": [
              "'Python é Legal'"
            ],
            "application/vnd.google.colaboratory.intrinsic+json": {
              "type": "string"
            }
          },
          "metadata": {},
          "execution_count": 234
        }
      ],
      "source": [
        "c + d"
      ]
    },
    {
      "cell_type": "code",
      "execution_count": null,
      "metadata": {
        "id": "5zMXVwLHltmF"
      },
      "outputs": [],
      "source": [
        "# c + a"
      ]
    },
    {
      "cell_type": "code",
      "execution_count": null,
      "metadata": {
        "id": "JJrqKRZFltmJ",
        "colab": {
          "base_uri": "https://localhost:8080/",
          "height": 35
        },
        "outputId": "6bf428c7-405b-4af2-9229-c4238426abf0"
      },
      "outputs": [
        {
          "output_type": "execute_result",
          "data": {
            "text/plain": [
              "'10'"
            ],
            "application/vnd.google.colaboratory.intrinsic+json": {
              "type": "string"
            }
          },
          "metadata": {},
          "execution_count": 236
        }
      ],
      "source": [
        "str(a)"
      ]
    },
    {
      "cell_type": "code",
      "execution_count": null,
      "metadata": {
        "id": "hWEIttpgltmM",
        "colab": {
          "base_uri": "https://localhost:8080/",
          "height": 35
        },
        "outputId": "874586cf-6f9e-4360-d64e-ac60f7f8856c"
      },
      "outputs": [
        {
          "output_type": "execute_result",
          "data": {
            "text/plain": [
              "'Python é 10'"
            ],
            "application/vnd.google.colaboratory.intrinsic+json": {
              "type": "string"
            }
          },
          "metadata": {},
          "execution_count": 237
        }
      ],
      "source": [
        "c + str(a)"
      ]
    },
    {
      "cell_type": "code",
      "source": [
        "float(a)"
      ],
      "metadata": {
        "id": "_OBn4VjX9PPR",
        "colab": {
          "base_uri": "https://localhost:8080/"
        },
        "outputId": "ab589dc8-871c-4280-e019-dc736d401e5b"
      },
      "execution_count": null,
      "outputs": [
        {
          "output_type": "execute_result",
          "data": {
            "text/plain": [
              "10.0"
            ]
          },
          "metadata": {},
          "execution_count": 238
        }
      ]
    },
    {
      "cell_type": "code",
      "source": [
        "var = 3.141592\n",
        "type(var)"
      ],
      "metadata": {
        "id": "UkvgtbEE9XBI",
        "colab": {
          "base_uri": "https://localhost:8080/"
        },
        "outputId": "3dc3accc-4143-48c9-97e9-0e6a1730dc5d"
      },
      "execution_count": null,
      "outputs": [
        {
          "output_type": "execute_result",
          "data": {
            "text/plain": [
              "float"
            ]
          },
          "metadata": {},
          "execution_count": 239
        }
      ]
    },
    {
      "cell_type": "code",
      "source": [
        "int(var)"
      ],
      "metadata": {
        "id": "pMecD0N49dOn",
        "colab": {
          "base_uri": "https://localhost:8080/"
        },
        "outputId": "053505ed-2cec-470f-f16a-e463f6353cd9"
      },
      "execution_count": null,
      "outputs": [
        {
          "output_type": "execute_result",
          "data": {
            "text/plain": [
              "3"
            ]
          },
          "metadata": {},
          "execution_count": 240
        }
      ]
    },
    {
      "cell_type": "markdown",
      "source": [
        "Exercício"
      ],
      "metadata": {
        "id": "zZ_8Q_f0-AJS"
      }
    },
    {
      "cell_type": "code",
      "source": [
        "text = 'A quilometragem média do veículo é de: '\n",
        "km = 100000\n",
        "ano_atual = 2019\n",
        "ano_fabricacao = 1999\n",
        "\n",
        "media = km / (ano_atual - ano_fabricacao)\n",
        "media\n",
        "type(media)\n",
        "int(media)\n",
        "str(media)"
      ],
      "metadata": {
        "id": "bayydSo7-CXk",
        "colab": {
          "base_uri": "https://localhost:8080/",
          "height": 35
        },
        "outputId": "cccb2c93-3a18-46c2-ad49-3264b2a1bfa4"
      },
      "execution_count": null,
      "outputs": [
        {
          "output_type": "execute_result",
          "data": {
            "text/plain": [
              "'5000.0'"
            ],
            "application/vnd.google.colaboratory.intrinsic+json": {
              "type": "string"
            }
          },
          "metadata": {},
          "execution_count": 241
        }
      ]
    },
    {
      "cell_type": "markdown",
      "metadata": {
        "id": "dByigpENltmO"
      },
      "source": [
        "### Conversões de tipo\n",
        "\n",
        "Funções int(), float(), str()"
      ]
    },
    {
      "cell_type": "code",
      "execution_count": null,
      "metadata": {
        "id": "MtecvWlsltmP"
      },
      "outputs": [],
      "source": []
    },
    {
      "cell_type": "code",
      "execution_count": null,
      "metadata": {
        "id": "S1NuIhDVltmS"
      },
      "outputs": [],
      "source": []
    },
    {
      "cell_type": "code",
      "execution_count": null,
      "metadata": {
        "id": "3kCUD1X-ltmT"
      },
      "outputs": [],
      "source": []
    },
    {
      "cell_type": "code",
      "execution_count": null,
      "metadata": {
        "id": "TTjSEVRaltmU"
      },
      "outputs": [],
      "source": []
    },
    {
      "cell_type": "code",
      "execution_count": null,
      "metadata": {
        "id": "P1P1bXaYltmV"
      },
      "outputs": [],
      "source": []
    },
    {
      "cell_type": "code",
      "execution_count": null,
      "metadata": {
        "id": "F_8Cn0aAltmW"
      },
      "outputs": [],
      "source": []
    },
    {
      "cell_type": "code",
      "execution_count": null,
      "metadata": {
        "id": "_KA6MUgmltmY"
      },
      "outputs": [],
      "source": []
    },
    {
      "cell_type": "code",
      "execution_count": null,
      "metadata": {
        "id": "7uiCxqUcltma"
      },
      "outputs": [],
      "source": []
    },
    {
      "cell_type": "markdown",
      "source": [],
      "metadata": {
        "id": "aBY2q8hJ98RB"
      }
    },
    {
      "cell_type": "markdown",
      "metadata": {
        "id": "gGpflJMYltmd"
      },
      "source": [
        "# 2.5 Indentação, comentários e formatação de *strings*"
      ]
    },
    {
      "cell_type": "markdown",
      "metadata": {
        "id": "XbijUgqVltmw"
      },
      "source": [
        "### Indentação\n",
        "\n",
        "Na linguagem Python os programas são estruturados por meio de indentação. Em qualquer linguagem de programação a prática da indentação é bastante útil, facilitando a leitura e também a manutenção do código. Em Python a indentação não é somente uma questão de organização e estilo, mas sim um requisito da linguagem."
      ]
    },
    {
      "cell_type": "code",
      "execution_count": null,
      "metadata": {
        "id": "DqXANnyultmw",
        "colab": {
          "base_uri": "https://localhost:8080/"
        },
        "outputId": "7d8a6263-1fe5-4a2a-9f56-16afcb1a4db8"
      },
      "outputs": [
        {
          "output_type": "stream",
          "name": "stdout",
          "text": [
            "Verdadeiro\n"
          ]
        }
      ],
      "source": [
        "ano_atual = 2019\n",
        "ano_fabricacao = 2019\n",
        "\n",
        "if (ano_atual == ano_fabricacao):\n",
        "    print('Verdadeiro')\n",
        "else:\n",
        "    print('Falso')"
      ]
    },
    {
      "cell_type": "markdown",
      "metadata": {
        "id": "dNBfv7x7ltmy"
      },
      "source": [
        "### Comentários\n",
        "\n",
        "Comentários são extremamente importantes em um programa. Consiste em um texto que descreve o que o programa ou uma parte específica do programa está fazendo. Os comentários são ignorados pelo interpretador Python. \n",
        "\n",
        "Podemos ter comentários de uma única linha ou de múltiplas linhas."
      ]
    },
    {
      "cell_type": "code",
      "execution_count": null,
      "metadata": {
        "id": "GN3DfwiRltmy",
        "colab": {
          "base_uri": "https://localhost:8080/"
        },
        "outputId": "c189cf91-1467-4418-b721-981a350c7b7f"
      },
      "outputs": [
        {
          "output_type": "execute_result",
          "data": {
            "text/plain": [
              "2019"
            ]
          },
          "metadata": {},
          "execution_count": 243
        }
      ],
      "source": [
        "# Isto é um comentário\n",
        "ano_atual = 2019\n",
        "ano_atual"
      ]
    },
    {
      "cell_type": "code",
      "execution_count": null,
      "metadata": {
        "id": "PICBiohFltm2",
        "colab": {
          "base_uri": "https://localhost:8080/"
        },
        "outputId": "24c9ba4a-a0d1-41a4-8e68-8d269cc7c26f"
      },
      "outputs": [
        {
          "output_type": "execute_result",
          "data": {
            "text/plain": [
              "2019"
            ]
          },
          "metadata": {},
          "execution_count": 244
        }
      ],
      "source": [
        "# Isto\n",
        "# é um \n",
        "# comentário\n",
        "ano_atual = 2019\n",
        "ano_atual"
      ]
    },
    {
      "cell_type": "code",
      "execution_count": null,
      "metadata": {
        "id": "PTkJ4Vjultm4",
        "colab": {
          "base_uri": "https://localhost:8080/"
        },
        "outputId": "ed105612-02bd-4cb1-bae6-a71da527bf82"
      },
      "outputs": [
        {
          "output_type": "execute_result",
          "data": {
            "text/plain": [
              "2019"
            ]
          },
          "metadata": {},
          "execution_count": 245
        }
      ],
      "source": [
        "'''Isto é um\n",
        "comentário'''\n",
        "ano_atual = 2019\n",
        "ano_atual"
      ]
    },
    {
      "cell_type": "code",
      "execution_count": null,
      "metadata": {
        "id": "SYEGdALxltm5",
        "colab": {
          "base_uri": "https://localhost:8080/"
        },
        "outputId": "5a8e1c6e-c426-461d-9803-4c19bdfb29cf"
      },
      "outputs": [
        {
          "output_type": "stream",
          "name": "stdout",
          "text": [
            "Verdadeiro\n"
          ]
        }
      ],
      "source": [
        "# Definindo variáveis\n",
        "ano_atual = 2019\n",
        "ano_fabricacao = 2019\n",
        "\n",
        "'''\n",
        "Estrutura condicional que vamos \n",
        "aprender na próxima aula\n",
        "'''\n",
        "if (ano_atual == ano_fabricacao):   # Testando se condição é verdadeira\n",
        "    print('Verdadeiro')\n",
        "else:                               # Testando se condição é falsa\n",
        "    print('Falso')"
      ]
    },
    {
      "cell_type": "markdown",
      "metadata": {
        "id": "8--bcJ01ltm8"
      },
      "source": [
        "### Formatação de *strings*"
      ]
    },
    {
      "cell_type": "markdown",
      "metadata": {
        "id": "8lSC0XEDltm-"
      },
      "source": [
        "## *str % valor*\n",
        "https://docs.python.org/3.6/library/stdtypes.html#old-string-formatting"
      ]
    },
    {
      "cell_type": "code",
      "execution_count": null,
      "metadata": {
        "id": "aqqBQJ8kltm_"
      },
      "outputs": [],
      "source": []
    },
    {
      "cell_type": "code",
      "execution_count": null,
      "metadata": {
        "id": "EFK1y92vltnA"
      },
      "outputs": [],
      "source": []
    },
    {
      "cell_type": "code",
      "execution_count": null,
      "metadata": {
        "id": "3Y-V_AVDltnD"
      },
      "outputs": [],
      "source": []
    },
    {
      "cell_type": "code",
      "execution_count": null,
      "metadata": {
        "id": "pr4wrDaSltnE"
      },
      "outputs": [],
      "source": []
    },
    {
      "cell_type": "code",
      "execution_count": null,
      "metadata": {
        "id": "iQVGzKNvltnF"
      },
      "outputs": [],
      "source": []
    },
    {
      "cell_type": "markdown",
      "metadata": {
        "id": "CMovhJZ_ltnG"
      },
      "source": [
        "## *str.format()*\n",
        "\n",
        "https://docs.python.org/3.6/library/stdtypes.html#str.format"
      ]
    },
    {
      "cell_type": "code",
      "execution_count": null,
      "metadata": {
        "id": "N12xmMehltnG",
        "colab": {
          "base_uri": "https://localhost:8080/"
        },
        "outputId": "3cc9540b-27fa-477d-adb4-07d60c4e211d"
      },
      "outputs": [
        {
          "output_type": "stream",
          "name": "stdout",
          "text": [
            "Ola Gustavo! Este é seu acesso de número 32\n"
          ]
        }
      ],
      "source": [
        "print('Ola {}! Este é seu acesso de número {}'.format('Gustavo', 32))"
      ]
    },
    {
      "cell_type": "code",
      "execution_count": null,
      "metadata": {
        "id": "mRBmU9G1ltnJ",
        "colab": {
          "base_uri": "https://localhost:8080/"
        },
        "outputId": "f062e2a7-8de0-4eca-f8ac-f1534a5cb50d"
      },
      "outputs": [
        {
          "output_type": "stream",
          "name": "stdout",
          "text": [
            "Ola Gustavo! Este é seu acesso de número 32\n"
          ]
        }
      ],
      "source": [
        "print('Ola {nome}! Este é seu acesso de número {acesso}'.format(nome = 'Gustavo', acesso = 32))"
      ]
    },
    {
      "cell_type": "code",
      "execution_count": null,
      "metadata": {
        "id": "wpqEsTwnltnL"
      },
      "outputs": [],
      "source": []
    },
    {
      "cell_type": "markdown",
      "metadata": {
        "id": "V-wPNUN9ltnN"
      },
      "source": [
        "## *f-Strings*\n",
        "\n",
        "https://docs.python.org/3.6/reference/lexical_analysis.html#f-strings"
      ]
    },
    {
      "cell_type": "code",
      "execution_count": null,
      "metadata": {
        "id": "7Fq_WPv0ltnO"
      },
      "outputs": [],
      "source": [
        "nome = 'Gustavo'\n",
        "acesso = 32"
      ]
    },
    {
      "cell_type": "code",
      "execution_count": null,
      "metadata": {
        "id": "bE3qbd6WltnR",
        "colab": {
          "base_uri": "https://localhost:8080/"
        },
        "outputId": "a3ec2304-b6d3-45af-eb05-172014e28a6b"
      },
      "outputs": [
        {
          "output_type": "stream",
          "name": "stdout",
          "text": [
            "Ola Gustavo! Este é seu acesso de número 32\n"
          ]
        }
      ],
      "source": [
        "print(f'Ola {nome}! Este é seu acesso de número {acesso}')"
      ]
    },
    {
      "cell_type": "markdown",
      "metadata": {
        "id": "_IZuNE48ltnS"
      },
      "source": [
        "# <font color=green> 3. TRABALHANDO COM LISTAS\n",
        "---"
      ]
    },
    {
      "cell_type": "markdown",
      "metadata": {
        "id": "zhS89xysltnS"
      },
      "source": [
        "# 3.1 Criando listas\n",
        "\n",
        "Listas são sequências **mutáveis** que são utilizadas para armazenar coleções de itens, geralmente homogêneos. Podem ser construídas de várias formas:\n",
        "```\n",
        "- Utilizando um par de colchetes: [ ], [ 1 ]\n",
        "- Utilizando um par de colchetes com itens separados por vírgulas: [ 1, 2, 3 ]\n",
        "```"
      ]
    },
    {
      "cell_type": "code",
      "execution_count": null,
      "metadata": {
        "id": "aE4UWF10ltnS",
        "colab": {
          "base_uri": "https://localhost:8080/"
        },
        "outputId": "a918f22c-59e3-4ee7-bc79-cbc5933566be"
      },
      "outputs": [
        {
          "output_type": "execute_result",
          "data": {
            "text/plain": [
              "['Rodas de liga',\n",
              " 'Travas elétricas',\n",
              " 'Piloto automático',\n",
              " 'Bancos de couro',\n",
              " 'Ar condicionado',\n",
              " 'Sensor de estacionamento',\n",
              " 'Sensor crepuscular',\n",
              " 'Sensor de chuva']"
            ]
          },
          "metadata": {},
          "execution_count": 251
        }
      ],
      "source": [
        "Acessorios = ['Rodas de liga', 'Travas elétricas', 'Piloto automático', 'Bancos de couro', 'Ar condicionado', 'Sensor de estacionamento', 'Sensor crepuscular', 'Sensor de chuva']\n",
        "Acessorios"
      ]
    },
    {
      "cell_type": "markdown",
      "metadata": {
        "id": "Mmlkh5TVltnT"
      },
      "source": [
        "### Lista com tipos de dados variados"
      ]
    },
    {
      "cell_type": "code",
      "execution_count": null,
      "metadata": {
        "id": "Mfpu7NoJltnT"
      },
      "outputs": [],
      "source": [
        "Carro_1 = ['Jetta Variant', 'Motor 4.0 Turbo', 2003, 44410.0, False, ['Rodas de liga', 'Travas elétricas', 'Piloto automático'], 88078.64]\n",
        "Carro_2 = ['Passat', 'Motor Diesel', 1991, 5712.0, False, ['Central multimídia', 'Teto panorâmico', 'Freios ABS'], 106161.94]"
      ]
    },
    {
      "cell_type": "code",
      "execution_count": null,
      "metadata": {
        "id": "EJSJFJjKltnV",
        "colab": {
          "base_uri": "https://localhost:8080/"
        },
        "outputId": "110d3fa2-b4dd-495a-912e-b920060e9a06"
      },
      "outputs": [
        {
          "output_type": "execute_result",
          "data": {
            "text/plain": [
              "['Jetta Variant',\n",
              " 'Motor 4.0 Turbo',\n",
              " 2003,\n",
              " 44410.0,\n",
              " False,\n",
              " ['Rodas de liga', 'Travas elétricas', 'Piloto automático'],\n",
              " 88078.64]"
            ]
          },
          "metadata": {},
          "execution_count": 253
        }
      ],
      "source": [
        "Carro_1"
      ]
    },
    {
      "cell_type": "code",
      "execution_count": null,
      "metadata": {
        "id": "7MMG7L8VltnX",
        "colab": {
          "base_uri": "https://localhost:8080/"
        },
        "outputId": "56c2067b-d8ea-4b24-d3fb-f8c0b161ceac"
      },
      "outputs": [
        {
          "output_type": "execute_result",
          "data": {
            "text/plain": [
              "['Passat',\n",
              " 'Motor Diesel',\n",
              " 1991,\n",
              " 5712.0,\n",
              " False,\n",
              " ['Central multimídia', 'Teto panorâmico', 'Freios ABS'],\n",
              " 106161.94]"
            ]
          },
          "metadata": {},
          "execution_count": 254
        }
      ],
      "source": [
        "Carro_2"
      ]
    },
    {
      "cell_type": "code",
      "execution_count": null,
      "metadata": {
        "id": "7E8erLgZltnZ"
      },
      "outputs": [],
      "source": [
        "Carros = [Carro_1, Carro_2]"
      ]
    },
    {
      "cell_type": "code",
      "source": [
        "Carros"
      ],
      "metadata": {
        "id": "DyRpjxlxSB1r",
        "colab": {
          "base_uri": "https://localhost:8080/"
        },
        "outputId": "e9796b5e-a069-4767-9d61-63355255d546"
      },
      "execution_count": null,
      "outputs": [
        {
          "output_type": "execute_result",
          "data": {
            "text/plain": [
              "[['Jetta Variant',\n",
              "  'Motor 4.0 Turbo',\n",
              "  2003,\n",
              "  44410.0,\n",
              "  False,\n",
              "  ['Rodas de liga', 'Travas elétricas', 'Piloto automático'],\n",
              "  88078.64],\n",
              " ['Passat',\n",
              "  'Motor Diesel',\n",
              "  1991,\n",
              "  5712.0,\n",
              "  False,\n",
              "  ['Central multimídia', 'Teto panorâmico', 'Freios ABS'],\n",
              "  106161.94]]"
            ]
          },
          "metadata": {},
          "execution_count": 256
        }
      ]
    },
    {
      "cell_type": "markdown",
      "metadata": {
        "id": "5yMXJ0xdltna"
      },
      "source": [
        "# 3.2 Operações com listas\n",
        "\n",
        "https://docs.python.org/3.6/library/stdtypes.html#common-sequence-operations"
      ]
    },
    {
      "cell_type": "markdown",
      "metadata": {
        "id": "YSorJOGlltna"
      },
      "source": [
        "## *x in A*\n",
        "\n",
        "Retorna **True** se um elemento da lista *A* for igual a *x*."
      ]
    },
    {
      "cell_type": "code",
      "execution_count": null,
      "metadata": {
        "id": "GgSP_nlHltnb",
        "colab": {
          "base_uri": "https://localhost:8080/"
        },
        "outputId": "af0bf263-7b6a-426b-dd5c-4a4377a8d855"
      },
      "outputs": [
        {
          "output_type": "execute_result",
          "data": {
            "text/plain": [
              "['Rodas de liga',\n",
              " 'Travas elétricas',\n",
              " 'Piloto automático',\n",
              " 'Bancos de couro',\n",
              " 'Ar condicionado',\n",
              " 'Sensor de estacionamento',\n",
              " 'Sensor crepuscular',\n",
              " 'Sensor de chuva']"
            ]
          },
          "metadata": {},
          "execution_count": 257
        }
      ],
      "source": [
        "Acessorios"
      ]
    },
    {
      "cell_type": "code",
      "execution_count": null,
      "metadata": {
        "id": "_JyyHPmWltnd",
        "colab": {
          "base_uri": "https://localhost:8080/"
        },
        "outputId": "15f8ed2d-9a74-4281-b9ab-ce8a6b3eb048"
      },
      "outputs": [
        {
          "output_type": "execute_result",
          "data": {
            "text/plain": [
              "True"
            ]
          },
          "metadata": {},
          "execution_count": 258
        }
      ],
      "source": [
        "'Rodas de liga' in Acessorios"
      ]
    },
    {
      "cell_type": "code",
      "execution_count": null,
      "metadata": {
        "id": "tebg9gAyltne",
        "colab": {
          "base_uri": "https://localhost:8080/"
        },
        "outputId": "4bc07071-7f34-4c95-fdac-1014004f5c87"
      },
      "outputs": [
        {
          "output_type": "execute_result",
          "data": {
            "text/plain": [
              "False"
            ]
          },
          "metadata": {},
          "execution_count": 259
        }
      ],
      "source": [
        "'Rodas de liga' not in Acessorios"
      ]
    },
    {
      "cell_type": "code",
      "execution_count": null,
      "metadata": {
        "id": "W_1PKJYsltnf",
        "colab": {
          "base_uri": "https://localhost:8080/"
        },
        "outputId": "b23803a9-33f8-433a-887c-170ffa801dbd"
      },
      "outputs": [
        {
          "output_type": "execute_result",
          "data": {
            "text/plain": [
              "False"
            ]
          },
          "metadata": {},
          "execution_count": 260
        }
      ],
      "source": [
        "'4 x 4' in Acessorios"
      ]
    },
    {
      "cell_type": "code",
      "execution_count": null,
      "metadata": {
        "id": "1WNsBXFyltng"
      },
      "outputs": [],
      "source": []
    },
    {
      "cell_type": "markdown",
      "metadata": {
        "id": "RF6_rf90ltnh"
      },
      "source": [
        "## *A + B*\n",
        "\n",
        "Concatena as listas *A* e *B*."
      ]
    },
    {
      "cell_type": "code",
      "execution_count": null,
      "metadata": {
        "id": "8lnzbYnRltnh"
      },
      "outputs": [],
      "source": [
        "A = ['Rodas de liga', 'Travas elétricas', 'Piloto automático', 'Bancos de couro']\n",
        "B = ['Ar condicionado', 'Sensor de estacionamento', 'Sensor crepuscular', 'Sensor de chuva']"
      ]
    },
    {
      "cell_type": "code",
      "execution_count": null,
      "metadata": {
        "id": "SzbiHHF4ltni",
        "colab": {
          "base_uri": "https://localhost:8080/"
        },
        "outputId": "8cf95cc8-4fa4-4978-8ae0-ecf240a1756f"
      },
      "outputs": [
        {
          "output_type": "execute_result",
          "data": {
            "text/plain": [
              "['Rodas de liga',\n",
              " 'Travas elétricas',\n",
              " 'Piloto automático',\n",
              " 'Bancos de couro',\n",
              " 'Ar condicionado',\n",
              " 'Sensor de estacionamento',\n",
              " 'Sensor crepuscular',\n",
              " 'Sensor de chuva']"
            ]
          },
          "metadata": {},
          "execution_count": 262
        }
      ],
      "source": [
        "A + B"
      ]
    },
    {
      "cell_type": "code",
      "execution_count": null,
      "metadata": {
        "id": "It5Cn5aXltni"
      },
      "outputs": [],
      "source": [
        "C = A + B"
      ]
    },
    {
      "cell_type": "code",
      "execution_count": null,
      "metadata": {
        "id": "l7gF4Ph5ltnj",
        "colab": {
          "base_uri": "https://localhost:8080/"
        },
        "outputId": "04bd87ce-c601-476d-bea0-06db10b0b86c"
      },
      "outputs": [
        {
          "output_type": "execute_result",
          "data": {
            "text/plain": [
              "['Rodas de liga',\n",
              " 'Travas elétricas',\n",
              " 'Piloto automático',\n",
              " 'Bancos de couro',\n",
              " 'Ar condicionado',\n",
              " 'Sensor de estacionamento',\n",
              " 'Sensor crepuscular',\n",
              " 'Sensor de chuva']"
            ]
          },
          "metadata": {},
          "execution_count": 264
        }
      ],
      "source": [
        "C"
      ]
    },
    {
      "cell_type": "markdown",
      "metadata": {
        "id": "iTv5t7zAltnk"
      },
      "source": [
        "## *len(A)*\n",
        "\n",
        "Tamanho da lista A."
      ]
    },
    {
      "cell_type": "code",
      "execution_count": null,
      "metadata": {
        "id": "dtbuCDSOltnk",
        "colab": {
          "base_uri": "https://localhost:8080/"
        },
        "outputId": "fb0b73de-7462-46ac-edbd-eb3120d77e4c"
      },
      "outputs": [
        {
          "output_type": "execute_result",
          "data": {
            "text/plain": [
              "8"
            ]
          },
          "metadata": {},
          "execution_count": 265
        }
      ],
      "source": [
        "len(Acessorios)"
      ]
    },
    {
      "cell_type": "markdown",
      "metadata": {
        "id": "k7wWCbAmltnl"
      },
      "source": [
        "# 3.3 Seleções em listas"
      ]
    },
    {
      "cell_type": "markdown",
      "metadata": {
        "id": "uF3NmgUaltnl"
      },
      "source": [
        "## *A[ i ]*\n",
        "\n",
        "Retorna o i-ésimo item da lista *A*.\n",
        "\n",
        "<font color=red>**Observação:**</font> Listas têm indexação com origem no zero."
      ]
    },
    {
      "cell_type": "code",
      "execution_count": null,
      "metadata": {
        "id": "f5ct7w1Wltnm",
        "colab": {
          "base_uri": "https://localhost:8080/"
        },
        "outputId": "28dc4b14-5e8b-46e9-a5c5-2cb4d87b99b3"
      },
      "outputs": [
        {
          "output_type": "execute_result",
          "data": {
            "text/plain": [
              "['Rodas de liga',\n",
              " 'Travas elétricas',\n",
              " 'Piloto automático',\n",
              " 'Bancos de couro',\n",
              " 'Ar condicionado',\n",
              " 'Sensor de estacionamento',\n",
              " 'Sensor crepuscular',\n",
              " 'Sensor de chuva']"
            ]
          },
          "metadata": {},
          "execution_count": 266
        }
      ],
      "source": [
        "Acessorios"
      ]
    },
    {
      "cell_type": "code",
      "execution_count": null,
      "metadata": {
        "id": "-BLG7yifltnn",
        "colab": {
          "base_uri": "https://localhost:8080/"
        },
        "outputId": "ac2dc5ec-6e44-4e89-f245-682fe3d0dc84"
      },
      "outputs": [
        {
          "output_type": "execute_result",
          "data": {
            "text/plain": [
              "'Sensor de chuva'"
            ],
            "application/vnd.google.colaboratory.intrinsic+json": {
              "type": "string"
            }
          },
          "metadata": {},
          "execution_count": 267
        }
      ],
      "source": [
        "Acessorios[-1]"
      ]
    },
    {
      "cell_type": "code",
      "execution_count": null,
      "metadata": {
        "id": "SoL6PIjJltno",
        "colab": {
          "base_uri": "https://localhost:8080/"
        },
        "outputId": "b41e4c7a-46db-49eb-fc56-c30661cff6d0"
      },
      "outputs": [
        {
          "output_type": "execute_result",
          "data": {
            "text/plain": [
              "[['Jetta Variant',\n",
              "  'Motor 4.0 Turbo',\n",
              "  2003,\n",
              "  44410.0,\n",
              "  False,\n",
              "  ['Rodas de liga', 'Travas elétricas', 'Piloto automático'],\n",
              "  88078.64],\n",
              " ['Passat',\n",
              "  'Motor Diesel',\n",
              "  1991,\n",
              "  5712.0,\n",
              "  False,\n",
              "  ['Central multimídia', 'Teto panorâmico', 'Freios ABS'],\n",
              "  106161.94]]"
            ]
          },
          "metadata": {},
          "execution_count": 268
        }
      ],
      "source": [
        "Carros"
      ]
    },
    {
      "cell_type": "code",
      "execution_count": null,
      "metadata": {
        "id": "pGMDc5FLltnq",
        "colab": {
          "base_uri": "https://localhost:8080/"
        },
        "outputId": "f8563bb3-2051-497f-c8ec-748f5e64b58c"
      },
      "outputs": [
        {
          "output_type": "execute_result",
          "data": {
            "text/plain": [
              "['Jetta Variant',\n",
              " 'Motor 4.0 Turbo',\n",
              " 2003,\n",
              " 44410.0,\n",
              " False,\n",
              " ['Rodas de liga', 'Travas elétricas', 'Piloto automático'],\n",
              " 88078.64]"
            ]
          },
          "metadata": {},
          "execution_count": 269
        }
      ],
      "source": [
        "Carros[0]"
      ]
    },
    {
      "cell_type": "code",
      "execution_count": null,
      "metadata": {
        "id": "m3AaFe73ltnr",
        "colab": {
          "base_uri": "https://localhost:8080/"
        },
        "outputId": "d159b1cf-f49c-4eb5-9691-04d3eb8e2fec"
      },
      "outputs": [
        {
          "output_type": "execute_result",
          "data": {
            "text/plain": [
              "'Jetta Variant'"
            ],
            "application/vnd.google.colaboratory.intrinsic+json": {
              "type": "string"
            }
          },
          "metadata": {},
          "execution_count": 270
        }
      ],
      "source": [
        "Carros[0][0]"
      ]
    },
    {
      "cell_type": "code",
      "execution_count": null,
      "metadata": {
        "id": "AeDJviqoltns",
        "colab": {
          "base_uri": "https://localhost:8080/"
        },
        "outputId": "c7d1a281-b070-4cfe-8ac3-78615f429a2f"
      },
      "outputs": [
        {
          "output_type": "execute_result",
          "data": {
            "text/plain": [
              "'Travas elétricas'"
            ],
            "application/vnd.google.colaboratory.intrinsic+json": {
              "type": "string"
            }
          },
          "metadata": {},
          "execution_count": 271
        }
      ],
      "source": [
        "Carros[0][5][1]"
      ]
    },
    {
      "cell_type": "code",
      "execution_count": null,
      "metadata": {
        "id": "KdenG1BZltnt"
      },
      "outputs": [],
      "source": []
    },
    {
      "cell_type": "code",
      "execution_count": null,
      "metadata": {
        "id": "iOjsfrlFltnu"
      },
      "outputs": [],
      "source": []
    },
    {
      "cell_type": "code",
      "execution_count": null,
      "metadata": {
        "id": "6BrON70Zltnu"
      },
      "outputs": [],
      "source": []
    },
    {
      "cell_type": "markdown",
      "metadata": {
        "id": "9WgwxPIMltnv"
      },
      "source": [
        "## *A[ i : j ]*\n",
        "\n",
        "Recorta a lista *A* do índice i até o j. Neste fatiamento o elemento com índice i é **incluído** e o elemento com índice j **não é incluído** no resultado."
      ]
    },
    {
      "cell_type": "code",
      "source": [
        "Acessorios"
      ],
      "metadata": {
        "id": "UyCBeMWrZQC_",
        "colab": {
          "base_uri": "https://localhost:8080/"
        },
        "outputId": "6d8f88d1-8755-477d-b27b-7a97454c25ff"
      },
      "execution_count": null,
      "outputs": [
        {
          "output_type": "execute_result",
          "data": {
            "text/plain": [
              "['Rodas de liga',\n",
              " 'Travas elétricas',\n",
              " 'Piloto automático',\n",
              " 'Bancos de couro',\n",
              " 'Ar condicionado',\n",
              " 'Sensor de estacionamento',\n",
              " 'Sensor crepuscular',\n",
              " 'Sensor de chuva']"
            ]
          },
          "metadata": {},
          "execution_count": 272
        }
      ]
    },
    {
      "cell_type": "code",
      "execution_count": null,
      "metadata": {
        "id": "bJzL2PMiltnv",
        "colab": {
          "base_uri": "https://localhost:8080/"
        },
        "outputId": "6e723412-0618-4a01-a2d7-73ceccee879d"
      },
      "outputs": [
        {
          "output_type": "execute_result",
          "data": {
            "text/plain": [
              "['Piloto automático', 'Bancos de couro', 'Ar condicionado']"
            ]
          },
          "metadata": {},
          "execution_count": 273
        }
      ],
      "source": [
        "Acessorios[2:5]"
      ]
    },
    {
      "cell_type": "code",
      "execution_count": null,
      "metadata": {
        "id": "sFAlJ4u_ltnw",
        "colab": {
          "base_uri": "https://localhost:8080/"
        },
        "outputId": "4a2cbcd8-5350-4e89-9186-d207379cbe2a"
      },
      "outputs": [
        {
          "output_type": "execute_result",
          "data": {
            "text/plain": [
              "['Rodas de liga',\n",
              " 'Travas elétricas',\n",
              " 'Piloto automático',\n",
              " 'Bancos de couro',\n",
              " 'Ar condicionado']"
            ]
          },
          "metadata": {},
          "execution_count": 274
        }
      ],
      "source": [
        "Acessorios[:5]"
      ]
    },
    {
      "cell_type": "code",
      "execution_count": null,
      "metadata": {
        "id": "dFdTBWa9ltnz",
        "colab": {
          "base_uri": "https://localhost:8080/"
        },
        "outputId": "0f08d334-2bae-4a2a-ff2a-0f9df2971ffb"
      },
      "outputs": [
        {
          "output_type": "execute_result",
          "data": {
            "text/plain": [
              "['Piloto automático',\n",
              " 'Bancos de couro',\n",
              " 'Ar condicionado',\n",
              " 'Sensor de estacionamento',\n",
              " 'Sensor crepuscular',\n",
              " 'Sensor de chuva']"
            ]
          },
          "metadata": {},
          "execution_count": 275
        }
      ],
      "source": [
        "Acessorios[2:]"
      ]
    },
    {
      "cell_type": "code",
      "execution_count": null,
      "metadata": {
        "id": "yxxB2-_Dltn0"
      },
      "outputs": [],
      "source": [
        "carros = [\n",
        "    [\n",
        "        'Jetta Variant',\n",
        "        'Motor 4.0 Turbo',\n",
        "        2003,\n",
        "        False,\n",
        "        ['Rodas de liga', 'Travas elétricas', 'Piloto automático']\n",
        "    ],\n",
        "    [\n",
        "        'Passat',\n",
        "        'Motor Diesel',\n",
        "        1991,\n",
        "        True,\n",
        "        ['Central multimídia', 'Teto panorâmico', 'Freios ABS']\n",
        "    ]\n",
        "]"
      ]
    },
    {
      "cell_type": "markdown",
      "metadata": {
        "id": "R-S-LCPGltn0"
      },
      "source": [
        "# 3.4 Métodos de listas\n",
        "\n",
        "https://docs.python.org/3.6/library/stdtypes.html#mutable-sequence-types"
      ]
    },
    {
      "cell_type": "markdown",
      "metadata": {
        "id": "j9s2OyyPltn1"
      },
      "source": [
        "## *A.sort()*\n",
        "\n",
        "Ordena a lista *A*."
      ]
    },
    {
      "cell_type": "code",
      "execution_count": null,
      "metadata": {
        "id": "A2dJGhFsltn1",
        "colab": {
          "base_uri": "https://localhost:8080/"
        },
        "outputId": "4f51b7da-a502-4fa2-e3d8-6925cb4fcf36"
      },
      "outputs": [
        {
          "output_type": "execute_result",
          "data": {
            "text/plain": [
              "['Rodas de liga',\n",
              " 'Travas elétricas',\n",
              " 'Piloto automático',\n",
              " 'Bancos de couro',\n",
              " 'Ar condicionado',\n",
              " 'Sensor de estacionamento',\n",
              " 'Sensor crepuscular',\n",
              " 'Sensor de chuva']"
            ]
          },
          "metadata": {},
          "execution_count": 277
        }
      ],
      "source": [
        "Acessorios = ['Rodas de liga', 'Travas elétricas', 'Piloto automático', 'Bancos de couro', 'Ar condicionado', 'Sensor de estacionamento', 'Sensor crepuscular', 'Sensor de chuva']\n",
        "Acessorios"
      ]
    },
    {
      "cell_type": "code",
      "execution_count": null,
      "metadata": {
        "id": "VDWCHlTcltn2",
        "colab": {
          "base_uri": "https://localhost:8080/"
        },
        "outputId": "d590280f-fe4a-4846-a327-75a78c765543"
      },
      "outputs": [
        {
          "output_type": "execute_result",
          "data": {
            "text/plain": [
              "['Ar condicionado',\n",
              " 'Bancos de couro',\n",
              " 'Piloto automático',\n",
              " 'Rodas de liga',\n",
              " 'Sensor crepuscular',\n",
              " 'Sensor de chuva',\n",
              " 'Sensor de estacionamento',\n",
              " 'Travas elétricas']"
            ]
          },
          "metadata": {},
          "execution_count": 278
        }
      ],
      "source": [
        "Acessorios.sort()\n",
        "Acessorios"
      ]
    },
    {
      "cell_type": "markdown",
      "metadata": {
        "id": "N9Spp7-xltn3"
      },
      "source": [
        "## *A.append(x)*\n",
        "\n",
        "Adiciona o elemnto *x* no final da lista *A*."
      ]
    },
    {
      "cell_type": "code",
      "execution_count": null,
      "metadata": {
        "id": "l7I_U-sRltn4",
        "colab": {
          "base_uri": "https://localhost:8080/"
        },
        "outputId": "64faeaf7-a335-43ce-d7ba-8a34947a1d53"
      },
      "outputs": [
        {
          "output_type": "execute_result",
          "data": {
            "text/plain": [
              "['Ar condicionado',\n",
              " 'Bancos de couro',\n",
              " 'Piloto automático',\n",
              " 'Rodas de liga',\n",
              " 'Sensor crepuscular',\n",
              " 'Sensor de chuva',\n",
              " 'Sensor de estacionamento',\n",
              " 'Travas elétricas',\n",
              " '4 x 4']"
            ]
          },
          "metadata": {},
          "execution_count": 279
        }
      ],
      "source": [
        "Acessorios.append('4 x 4')\n",
        "Acessorios"
      ]
    },
    {
      "cell_type": "markdown",
      "metadata": {
        "id": "eiP3oACPltn6"
      },
      "source": [
        "## *A.pop(i)*\n",
        "\n",
        "Remove e retorna o elemento de índice i da lista *A*.\n",
        "\n",
        "<font color=red>**Observação:**</font> Por *default* o método *pop()* remove e retorna o último elemento de uma lista."
      ]
    },
    {
      "cell_type": "code",
      "execution_count": null,
      "metadata": {
        "id": "BoCKa5Hqltn6",
        "colab": {
          "base_uri": "https://localhost:8080/",
          "height": 35
        },
        "outputId": "7e8baadc-2028-4fff-be8b-7980a4953566"
      },
      "outputs": [
        {
          "output_type": "execute_result",
          "data": {
            "text/plain": [
              "'4 x 4'"
            ],
            "application/vnd.google.colaboratory.intrinsic+json": {
              "type": "string"
            }
          },
          "metadata": {},
          "execution_count": 280
        }
      ],
      "source": [
        "Acessorios.pop()"
      ]
    },
    {
      "cell_type": "code",
      "execution_count": null,
      "metadata": {
        "id": "GfGX1jw-ltn9",
        "colab": {
          "base_uri": "https://localhost:8080/"
        },
        "outputId": "af0956c6-71fe-45e8-f1ef-668029c8d7ac"
      },
      "outputs": [
        {
          "output_type": "execute_result",
          "data": {
            "text/plain": [
              "['Ar condicionado',\n",
              " 'Bancos de couro',\n",
              " 'Piloto automático',\n",
              " 'Rodas de liga',\n",
              " 'Sensor crepuscular',\n",
              " 'Sensor de chuva',\n",
              " 'Sensor de estacionamento',\n",
              " 'Travas elétricas']"
            ]
          },
          "metadata": {},
          "execution_count": 281
        }
      ],
      "source": [
        "Acessorios"
      ]
    },
    {
      "cell_type": "code",
      "execution_count": null,
      "metadata": {
        "id": "tppe9tqbltn-",
        "colab": {
          "base_uri": "https://localhost:8080/",
          "height": 35
        },
        "outputId": "cb149ff6-1cb7-4dc1-efb5-f4b76bd4d372"
      },
      "outputs": [
        {
          "output_type": "execute_result",
          "data": {
            "text/plain": [
              "'Rodas de liga'"
            ],
            "application/vnd.google.colaboratory.intrinsic+json": {
              "type": "string"
            }
          },
          "metadata": {},
          "execution_count": 282
        }
      ],
      "source": [
        "Acessorios.pop(3)"
      ]
    },
    {
      "cell_type": "code",
      "execution_count": null,
      "metadata": {
        "id": "Ku6ZHTdJltn_",
        "colab": {
          "base_uri": "https://localhost:8080/"
        },
        "outputId": "b017cae4-a273-47c4-8c33-2338a8ad56f3"
      },
      "outputs": [
        {
          "output_type": "execute_result",
          "data": {
            "text/plain": [
              "['Ar condicionado',\n",
              " 'Bancos de couro',\n",
              " 'Piloto automático',\n",
              " 'Sensor crepuscular',\n",
              " 'Sensor de chuva',\n",
              " 'Sensor de estacionamento',\n",
              " 'Travas elétricas']"
            ]
          },
          "metadata": {},
          "execution_count": 283
        }
      ],
      "source": [
        "Acessorios"
      ]
    },
    {
      "cell_type": "code",
      "source": [
        "Teste_exercicio = [\n",
        "    'Rodas de liga', \n",
        "    'Travas elétricas', \n",
        "    'Piloto automático',\n",
        "    'Bancos de couro',\n",
        "    'Ar condicionado'\n",
        "]"
      ],
      "metadata": {
        "id": "dQtIxkXixgAW"
      },
      "execution_count": null,
      "outputs": []
    },
    {
      "cell_type": "code",
      "source": [
        "Teste_exercicio.append('Airbag')"
      ],
      "metadata": {
        "id": "fGzvCh1oxqMT"
      },
      "execution_count": null,
      "outputs": []
    },
    {
      "cell_type": "code",
      "source": [
        "Teste_exercicio.sort()"
      ],
      "metadata": {
        "id": "cmm8ukqKxx69"
      },
      "execution_count": null,
      "outputs": []
    },
    {
      "cell_type": "code",
      "source": [
        "Teste_exercicio"
      ],
      "metadata": {
        "id": "WQFOJ4yJx2Qz",
        "colab": {
          "base_uri": "https://localhost:8080/"
        },
        "outputId": "67cc3784-b752-4e8b-ea1b-127e36327c77"
      },
      "execution_count": null,
      "outputs": [
        {
          "output_type": "execute_result",
          "data": {
            "text/plain": [
              "['Airbag',\n",
              " 'Ar condicionado',\n",
              " 'Bancos de couro',\n",
              " 'Piloto automático',\n",
              " 'Rodas de liga',\n",
              " 'Travas elétricas']"
            ]
          },
          "metadata": {},
          "execution_count": 287
        }
      ]
    },
    {
      "cell_type": "markdown",
      "metadata": {
        "id": "NySIp62hltoC"
      },
      "source": [
        "## *A.copy()*\n",
        "\n",
        "Cria uma cópia da lista *A*.\n",
        "\n",
        "<font color=red>**Observação:**</font> O mesmo resultado pode ser obtido com o seguinte código: \n",
        "```\n",
        "A[:]\n",
        "```"
      ]
    },
    {
      "cell_type": "code",
      "execution_count": null,
      "metadata": {
        "id": "yP9ODygcltoC",
        "colab": {
          "base_uri": "https://localhost:8080/"
        },
        "outputId": "22be718b-2d26-48c1-abcf-a44c651ab013"
      },
      "outputs": [
        {
          "output_type": "execute_result",
          "data": {
            "text/plain": [
              "['Ar condicionado',\n",
              " 'Bancos de couro',\n",
              " 'Piloto automático',\n",
              " 'Sensor crepuscular',\n",
              " 'Sensor de chuva',\n",
              " 'Sensor de estacionamento',\n",
              " 'Travas elétricas']"
            ]
          },
          "metadata": {},
          "execution_count": 288
        }
      ],
      "source": [
        "Acessorios_2 = Acessorios.copy()\n",
        "Acessorios_2"
      ]
    },
    {
      "cell_type": "code",
      "execution_count": null,
      "metadata": {
        "id": "W3eQdVWkltoF",
        "colab": {
          "base_uri": "https://localhost:8080/"
        },
        "outputId": "fced288f-9ad5-4312-e901-1c54a5d5967e"
      },
      "outputs": [
        {
          "output_type": "execute_result",
          "data": {
            "text/plain": [
              "['Ar condicionado',\n",
              " 'Bancos de couro',\n",
              " 'Piloto automático',\n",
              " 'Sensor crepuscular',\n",
              " 'Sensor de chuva',\n",
              " 'Sensor de estacionamento',\n",
              " 'Travas elétricas',\n",
              " '4 x 4']"
            ]
          },
          "metadata": {},
          "execution_count": 289
        }
      ],
      "source": [
        "Acessorios_2.append('4 x 4')\n",
        "Acessorios_2"
      ]
    },
    {
      "cell_type": "code",
      "execution_count": null,
      "metadata": {
        "id": "OVbvjjmdltoG",
        "colab": {
          "base_uri": "https://localhost:8080/"
        },
        "outputId": "52ab1b78-6607-4d6c-bc57-f99a205ec8f7"
      },
      "outputs": [
        {
          "output_type": "execute_result",
          "data": {
            "text/plain": [
              "['Ar condicionado',\n",
              " 'Bancos de couro',\n",
              " 'Piloto automático',\n",
              " 'Sensor crepuscular',\n",
              " 'Sensor de chuva',\n",
              " 'Sensor de estacionamento',\n",
              " 'Travas elétricas']"
            ]
          },
          "metadata": {},
          "execution_count": 290
        }
      ],
      "source": [
        "Acessorios"
      ]
    },
    {
      "cell_type": "code",
      "execution_count": null,
      "metadata": {
        "id": "P-MN1JfAltoH"
      },
      "outputs": [],
      "source": []
    },
    {
      "cell_type": "code",
      "execution_count": null,
      "metadata": {
        "id": "ZVQ38eqVltoJ"
      },
      "outputs": [],
      "source": []
    },
    {
      "cell_type": "code",
      "execution_count": null,
      "metadata": {
        "id": "bqPiw5wSltoM"
      },
      "outputs": [],
      "source": []
    },
    {
      "cell_type": "code",
      "execution_count": null,
      "metadata": {
        "id": "Lo9WgzF6ltoP"
      },
      "outputs": [],
      "source": []
    },
    {
      "cell_type": "code",
      "execution_count": null,
      "metadata": {
        "id": "r2LPHB34ltoQ"
      },
      "outputs": [],
      "source": []
    },
    {
      "cell_type": "code",
      "execution_count": null,
      "metadata": {
        "id": "UQqUkO8YltoR"
      },
      "outputs": [],
      "source": []
    },
    {
      "cell_type": "code",
      "execution_count": null,
      "metadata": {
        "id": "5hC4R-jNltoS"
      },
      "outputs": [],
      "source": []
    },
    {
      "cell_type": "markdown",
      "metadata": {
        "id": "8zMZNsg2ltoU"
      },
      "source": [
        "# <font color=green> 4. ESTRUTURAS DE REPETIÇÃO E CONDICIONAIS\n",
        "---"
      ]
    },
    {
      "cell_type": "markdown",
      "metadata": {
        "id": "gxUmCLyJltoU"
      },
      "source": [
        "# 4.1 Instrução *for*\n",
        "\n",
        "#### Formato padrão\n",
        "\n",
        "```\n",
        "for <variável> in <coleção>:\n",
        "    <instruções>\n",
        "```"
      ]
    },
    {
      "cell_type": "markdown",
      "metadata": {
        "id": "Irl5oa0altoU"
      },
      "source": [
        "### Loops com listas"
      ]
    },
    {
      "cell_type": "code",
      "execution_count": null,
      "metadata": {
        "id": "E1LZ5n25ltoV",
        "colab": {
          "base_uri": "https://localhost:8080/"
        },
        "outputId": "4f3c13c9-b13e-45e7-f2d7-d11af8475797"
      },
      "outputs": [
        {
          "output_type": "execute_result",
          "data": {
            "text/plain": [
              "['Ar condicionado',\n",
              " 'Bancos de couro',\n",
              " 'Piloto automático',\n",
              " 'Sensor crepuscular',\n",
              " 'Sensor de chuva',\n",
              " 'Sensor de estacionamento',\n",
              " 'Travas elétricas']"
            ]
          },
          "metadata": {},
          "execution_count": 291
        }
      ],
      "source": [
        "Acessorios"
      ]
    },
    {
      "cell_type": "code",
      "execution_count": null,
      "metadata": {
        "id": "Z459QqsFltoY",
        "colab": {
          "base_uri": "https://localhost:8080/"
        },
        "outputId": "8e9cc20d-8757-44bf-c852-eef2a0eaf840"
      },
      "outputs": [
        {
          "output_type": "stream",
          "name": "stdout",
          "text": [
            "Ar condicionado\n",
            "Bancos de couro\n",
            "Piloto automático\n",
            "Sensor crepuscular\n",
            "Sensor de chuva\n",
            "Sensor de estacionamento\n",
            "Travas elétricas\n"
          ]
        }
      ],
      "source": [
        "for item in Acessorios:\n",
        "  print(item)"
      ]
    },
    {
      "cell_type": "code",
      "source": [],
      "metadata": {
        "id": "Vfm7GpwXx5Yq"
      },
      "execution_count": null,
      "outputs": []
    },
    {
      "cell_type": "markdown",
      "metadata": {
        "id": "Gbztj9T4ltoZ"
      },
      "source": [
        "###  List comprehensions\n",
        "\n",
        "https://docs.python.org/3.6/tutorial/datastructures.html#list-comprehensions"
      ]
    },
    {
      "cell_type": "markdown",
      "metadata": {
        "id": "4Y8g0cSHjbof"
      },
      "source": [
        "*range()* -> https://docs.python.org/3.6/library/functions.html#func-range"
      ]
    },
    {
      "cell_type": "code",
      "execution_count": null,
      "metadata": {
        "id": "xDo9TLdYltoZ",
        "colab": {
          "base_uri": "https://localhost:8080/"
        },
        "outputId": "d2d58164-1d50-4f6b-fb49-132c59895b8b"
      },
      "outputs": [
        {
          "output_type": "execute_result",
          "data": {
            "text/plain": [
              "range(0, 10)"
            ]
          },
          "metadata": {},
          "execution_count": 293
        }
      ],
      "source": [
        "range(10)"
      ]
    },
    {
      "cell_type": "code",
      "execution_count": null,
      "metadata": {
        "id": "V12p_CQBltoc",
        "colab": {
          "base_uri": "https://localhost:8080/"
        },
        "outputId": "bb14b963-6f57-4c25-b01b-7d215ee8cd75"
      },
      "outputs": [
        {
          "output_type": "execute_result",
          "data": {
            "text/plain": [
              "[0, 1, 2, 3, 4, 5, 6, 7, 8, 9]"
            ]
          },
          "metadata": {},
          "execution_count": 294
        }
      ],
      "source": [
        "list(range(10))"
      ]
    },
    {
      "cell_type": "code",
      "execution_count": null,
      "metadata": {
        "id": "OOzHHRWHltof",
        "colab": {
          "base_uri": "https://localhost:8080/"
        },
        "outputId": "e3ce4907-5baa-498a-feb9-708232fbc28e"
      },
      "outputs": [
        {
          "output_type": "stream",
          "name": "stdout",
          "text": [
            "0\n",
            "1\n",
            "4\n",
            "9\n",
            "16\n",
            "25\n",
            "36\n",
            "49\n",
            "64\n",
            "81\n"
          ]
        }
      ],
      "source": [
        "for i in range(10):\n",
        "  print(i ** 2)"
      ]
    },
    {
      "cell_type": "code",
      "execution_count": null,
      "metadata": {
        "id": "TKynwnxgltog",
        "colab": {
          "base_uri": "https://localhost:8080/"
        },
        "outputId": "f2839e28-2dca-4a6b-c03a-d53387620914"
      },
      "outputs": [
        {
          "output_type": "execute_result",
          "data": {
            "text/plain": [
              "[0, 1, 4, 9, 16, 25, 36, 49, 64, 81]"
            ]
          },
          "metadata": {},
          "execution_count": 296
        }
      ],
      "source": [
        "quadrado = []\n",
        "for i in range(10):\n",
        "  quadrado.append(i ** 2)\n",
        "\n",
        "quadrado"
      ]
    },
    {
      "cell_type": "code",
      "execution_count": null,
      "metadata": {
        "id": "d77YH_dVltoh",
        "colab": {
          "base_uri": "https://localhost:8080/"
        },
        "outputId": "0aa60b37-c760-4891-ebc3-a234fc115105"
      },
      "outputs": [
        {
          "output_type": "execute_result",
          "data": {
            "text/plain": [
              "[0, 1, 4, 9, 16, 25, 36, 49, 64, 81]"
            ]
          },
          "metadata": {},
          "execution_count": 297
        }
      ],
      "source": [
        "[i ** 2 for i in range(10)]"
      ]
    },
    {
      "cell_type": "code",
      "execution_count": null,
      "metadata": {
        "id": "3OmElLO2ltoi"
      },
      "outputs": [],
      "source": []
    },
    {
      "cell_type": "code",
      "execution_count": null,
      "metadata": {
        "id": "HKUkvcDkltok"
      },
      "outputs": [],
      "source": []
    },
    {
      "cell_type": "markdown",
      "metadata": {
        "id": "AcAcaKFXltom"
      },
      "source": [
        "# 4.2 Loops aninhados"
      ]
    },
    {
      "cell_type": "code",
      "execution_count": null,
      "metadata": {
        "id": "mjgJCo3dlton",
        "colab": {
          "base_uri": "https://localhost:8080/"
        },
        "outputId": "d98bb24a-3c5c-4d41-ec5d-c92a35d0822c"
      },
      "outputs": [
        {
          "output_type": "execute_result",
          "data": {
            "text/plain": [
              "[['Rodas de liga',\n",
              "  'Travas elétricas',\n",
              "  'Piloto automático',\n",
              "  'Bancos de couro',\n",
              "  'Ar condicionado',\n",
              "  'Sensor de estacionamento',\n",
              "  'Sensor crepuscular',\n",
              "  'Sensor de chuva'],\n",
              " ['Central multimídia',\n",
              "  'Teto panorâmico',\n",
              "  'Freios ABS',\n",
              "  '4 X 4',\n",
              "  'Painel digital',\n",
              "  'Piloto automático',\n",
              "  'Bancos de couro',\n",
              "  'Câmera de estacionamento'],\n",
              " ['Piloto automático',\n",
              "  'Controle de estabilidade',\n",
              "  'Sensor crepuscular',\n",
              "  'Freios ABS',\n",
              "  'Câmbio automático',\n",
              "  'Bancos de couro',\n",
              "  'Central multimídia',\n",
              "  'Vidros elétricos']]"
            ]
          },
          "metadata": {},
          "execution_count": 298
        }
      ],
      "source": [
        "dados = [ \n",
        "    ['Rodas de liga', 'Travas elétricas', 'Piloto automático', 'Bancos de couro', 'Ar condicionado', 'Sensor de estacionamento', 'Sensor crepuscular', 'Sensor de chuva'],\n",
        "    ['Central multimídia', 'Teto panorâmico', 'Freios ABS', '4 X 4', 'Painel digital', 'Piloto automático', 'Bancos de couro', 'Câmera de estacionamento'],\n",
        "    ['Piloto automático', 'Controle de estabilidade', 'Sensor crepuscular', 'Freios ABS', 'Câmbio automático', 'Bancos de couro', 'Central multimídia', 'Vidros elétricos']\n",
        "]\n",
        "dados"
      ]
    },
    {
      "cell_type": "code",
      "execution_count": null,
      "metadata": {
        "id": "pLgxwApVltop",
        "colab": {
          "base_uri": "https://localhost:8080/"
        },
        "outputId": "7f09f500-0397-46c5-d5fe-022f3064c567"
      },
      "outputs": [
        {
          "output_type": "execute_result",
          "data": {
            "text/plain": [
              "[['Rodas de liga',\n",
              "  'Travas elétricas',\n",
              "  'Piloto automático',\n",
              "  'Bancos de couro',\n",
              "  'Ar condicionado',\n",
              "  'Sensor de estacionamento',\n",
              "  'Sensor crepuscular',\n",
              "  'Sensor de chuva'],\n",
              " ['Central multimídia',\n",
              "  'Teto panorâmico',\n",
              "  'Freios ABS',\n",
              "  '4 X 4',\n",
              "  'Painel digital',\n",
              "  'Piloto automático',\n",
              "  'Bancos de couro',\n",
              "  'Câmera de estacionamento'],\n",
              " ['Piloto automático',\n",
              "  'Controle de estabilidade',\n",
              "  'Sensor crepuscular',\n",
              "  'Freios ABS',\n",
              "  'Câmbio automático',\n",
              "  'Bancos de couro',\n",
              "  'Central multimídia',\n",
              "  'Vidros elétricos']]"
            ]
          },
          "metadata": {},
          "execution_count": 299
        }
      ],
      "source": [
        "dados"
      ]
    },
    {
      "cell_type": "code",
      "execution_count": null,
      "metadata": {
        "id": "OYnDRvcYltor",
        "colab": {
          "base_uri": "https://localhost:8080/"
        },
        "outputId": "f1f2b117-9265-4bdb-8dfc-ad09692a2e23"
      },
      "outputs": [
        {
          "output_type": "stream",
          "name": "stdout",
          "text": [
            "['Rodas de liga', 'Travas elétricas', 'Piloto automático', 'Bancos de couro', 'Ar condicionado', 'Sensor de estacionamento', 'Sensor crepuscular', 'Sensor de chuva']\n",
            "['Central multimídia', 'Teto panorâmico', 'Freios ABS', '4 X 4', 'Painel digital', 'Piloto automático', 'Bancos de couro', 'Câmera de estacionamento']\n",
            "['Piloto automático', 'Controle de estabilidade', 'Sensor crepuscular', 'Freios ABS', 'Câmbio automático', 'Bancos de couro', 'Central multimídia', 'Vidros elétricos']\n"
          ]
        }
      ],
      "source": [
        "for lista in dados:\n",
        "  print(lista)"
      ]
    },
    {
      "cell_type": "code",
      "execution_count": null,
      "metadata": {
        "id": "DbJa5_cJltos",
        "colab": {
          "base_uri": "https://localhost:8080/"
        },
        "outputId": "7fde9d11-3c26-4c13-9772-c49712135f06"
      },
      "outputs": [
        {
          "output_type": "stream",
          "name": "stdout",
          "text": [
            "Rodas de liga\n",
            "Travas elétricas\n",
            "Piloto automático\n",
            "Bancos de couro\n",
            "Ar condicionado\n",
            "Sensor de estacionamento\n",
            "Sensor crepuscular\n",
            "Sensor de chuva\n",
            "Central multimídia\n",
            "Teto panorâmico\n",
            "Freios ABS\n",
            "4 X 4\n",
            "Painel digital\n",
            "Piloto automático\n",
            "Bancos de couro\n",
            "Câmera de estacionamento\n",
            "Piloto automático\n",
            "Controle de estabilidade\n",
            "Sensor crepuscular\n",
            "Freios ABS\n",
            "Câmbio automático\n",
            "Bancos de couro\n",
            "Central multimídia\n",
            "Vidros elétricos\n"
          ]
        }
      ],
      "source": [
        "for lista in dados:\n",
        "  for item in lista:\n",
        "    print(item)"
      ]
    },
    {
      "cell_type": "code",
      "source": [
        "Acessorios = []\n",
        "for lista in dados:\n",
        "  for item in lista:\n",
        "    Acessorios.append(item)\n",
        "\n",
        "print(Acessorios)"
      ],
      "metadata": {
        "id": "uChJ4DdvCiNX",
        "colab": {
          "base_uri": "https://localhost:8080/"
        },
        "outputId": "ef33e9d1-d98b-4247-e6f7-f8d840d5c1c4"
      },
      "execution_count": null,
      "outputs": [
        {
          "output_type": "stream",
          "name": "stdout",
          "text": [
            "['Rodas de liga', 'Travas elétricas', 'Piloto automático', 'Bancos de couro', 'Ar condicionado', 'Sensor de estacionamento', 'Sensor crepuscular', 'Sensor de chuva', 'Central multimídia', 'Teto panorâmico', 'Freios ABS', '4 X 4', 'Painel digital', 'Piloto automático', 'Bancos de couro', 'Câmera de estacionamento', 'Piloto automático', 'Controle de estabilidade', 'Sensor crepuscular', 'Freios ABS', 'Câmbio automático', 'Bancos de couro', 'Central multimídia', 'Vidros elétricos']\n"
          ]
        }
      ]
    },
    {
      "cell_type": "markdown",
      "metadata": {
        "id": "RrGAOy1rn1Dj"
      },
      "source": [
        "## *set()*\n",
        "\n",
        "https://docs.python.org/3.6/library/stdtypes.html#types-set\n",
        "\n",
        "https://docs.python.org/3.6/library/functions.html#func-set"
      ]
    },
    {
      "cell_type": "code",
      "execution_count": null,
      "metadata": {
        "id": "CuB-9ClSltos",
        "colab": {
          "base_uri": "https://localhost:8080/"
        },
        "outputId": "b84f9a10-6de6-4be9-d9ff-e4fddf5f0bd6"
      },
      "outputs": [
        {
          "output_type": "execute_result",
          "data": {
            "text/plain": [
              "['Vidros elétricos',\n",
              " 'Sensor de chuva',\n",
              " 'Teto panorâmico',\n",
              " 'Central multimídia',\n",
              " 'Bancos de couro',\n",
              " 'Piloto automático',\n",
              " 'Rodas de liga',\n",
              " 'Sensor de estacionamento',\n",
              " 'Travas elétricas',\n",
              " 'Sensor crepuscular',\n",
              " 'Freios ABS',\n",
              " 'Painel digital',\n",
              " 'Ar condicionado',\n",
              " 'Câmera de estacionamento',\n",
              " '4 X 4',\n",
              " 'Controle de estabilidade',\n",
              " 'Câmbio automático']"
            ]
          },
          "metadata": {},
          "execution_count": 303
        }
      ],
      "source": [
        "list(set(Acessorios))"
      ]
    },
    {
      "cell_type": "markdown",
      "metadata": {
        "id": "9hHKKABhltot"
      },
      "source": [
        "### List comprehensions"
      ]
    },
    {
      "cell_type": "code",
      "execution_count": null,
      "metadata": {
        "id": "T6t79LTlltot"
      },
      "outputs": [],
      "source": []
    },
    {
      "cell_type": "code",
      "source": [],
      "metadata": {
        "id": "wBNvaGDoDW8b"
      },
      "execution_count": null,
      "outputs": []
    },
    {
      "cell_type": "markdown",
      "metadata": {
        "id": "cJ4fPdj5ltou"
      },
      "source": [
        "# 4.3 Instrução *if*\n",
        "\n",
        "#### Formato padrão\n",
        "\n",
        "```\n",
        "if <condição>:\n",
        "     <instruções caso a condição seja verdadeira>\n",
        "```"
      ]
    },
    {
      "cell_type": "markdown",
      "metadata": {
        "id": "bqOYDJiWltou"
      },
      "source": [
        "### Operadores de comparação: $==$, $!=$, $>$, $<$, $>=$, $<=$\n",
        "### e\n",
        "### Operadores lógicos: $and$, $or$, $not$"
      ]
    },
    {
      "cell_type": "code",
      "execution_count": null,
      "metadata": {
        "id": "5eY_XPmrltov",
        "colab": {
          "base_uri": "https://localhost:8080/"
        },
        "outputId": "f898aa10-76e3-48b1-d1f2-5c92b7aad58c"
      },
      "outputs": [
        {
          "output_type": "execute_result",
          "data": {
            "text/plain": [
              "[['Jetta Variant', 2003, False],\n",
              " ['Passat', 1991, False],\n",
              " ['Crossfox', 1990, False],\n",
              " ['DS5', 2019, True],\n",
              " ['Aston Martin DB4', 2006, False],\n",
              " ['Palio Weekend', 2012, False],\n",
              " ['A5', 2019, True],\n",
              " ['Série 3 Cabrio', 2009, False],\n",
              " ['Dodge Jorney', 2019, False],\n",
              " ['Carens', 2011, False]]"
            ]
          },
          "metadata": {},
          "execution_count": 323
        }
      ],
      "source": [
        "# 1º item da lista - Nome do veículo\n",
        "# 2º item da lista - Ano de fabricação\n",
        "# 3º item da lista - Veículo é zero km?\n",
        "\n",
        "dados = [\n",
        "    ['Jetta Variant', 2003, False],\n",
        "    ['Passat', 1991, False],\n",
        "    ['Crossfox', 1990, False],\n",
        "    ['DS5', 2019, True],\n",
        "    ['Aston Martin DB4', 2006, False],\n",
        "    ['Palio Weekend', 2012, False],\n",
        "    ['A5', 2019, True],\n",
        "    ['Série 3 Cabrio', 2009, False],\n",
        "    ['Dodge Jorney', 2019, False],\n",
        "    ['Carens', 2011, False]\n",
        "]\n",
        "dados"
      ]
    },
    {
      "cell_type": "code",
      "execution_count": null,
      "metadata": {
        "id": "5MlITJppltoy",
        "colab": {
          "base_uri": "https://localhost:8080/"
        },
        "outputId": "0ef3700c-5cb3-45a7-9903-c1cc8843bc2e"
      },
      "outputs": [
        {
          "output_type": "execute_result",
          "data": {
            "text/plain": [
              "[['DS5', 2019, True], ['A5', 2019, True]]"
            ]
          },
          "metadata": {},
          "execution_count": 325
        }
      ],
      "source": [
        "zero_km_Y = []\n",
        "for lista in dados:\n",
        "  if(lista[2] == True):\n",
        "    zero_km_Y.append(lista)\n",
        "zero_km_Y"
      ]
    },
    {
      "cell_type": "code",
      "source": [
        "zero_km_N = []\n",
        "for lista in dados:\n",
        "  if(lista[2] == False):\n",
        "    zero_km_N.append(lista)\n",
        "zero_km_N"
      ],
      "metadata": {
        "colab": {
          "base_uri": "https://localhost:8080/"
        },
        "id": "hj33nVqjucA2",
        "outputId": "80952e60-7be7-44b0-885d-a30479c79e9b"
      },
      "execution_count": null,
      "outputs": [
        {
          "output_type": "execute_result",
          "data": {
            "text/plain": [
              "[['Jetta Variant', 2003, False],\n",
              " ['Passat', 1991, False],\n",
              " ['Crossfox', 1990, False],\n",
              " ['Aston Martin DB4', 2006, False],\n",
              " ['Palio Weekend', 2012, False],\n",
              " ['Série 3 Cabrio', 2009, False],\n",
              " ['Dodge Jorney', 2019, False],\n",
              " ['Carens', 2011, False]]"
            ]
          },
          "metadata": {},
          "execution_count": 327
        }
      ]
    },
    {
      "cell_type": "markdown",
      "metadata": {
        "id": "51Js0kXD0aRH"
      },
      "source": [
        "**List comprehensions**"
      ]
    },
    {
      "cell_type": "code",
      "execution_count": null,
      "metadata": {
        "id": "Ly4QUX5J0aRI",
        "colab": {
          "base_uri": "https://localhost:8080/"
        },
        "outputId": "b6d2ec43-df88-4ff0-8369-ec4dcd20125f"
      },
      "outputs": [
        {
          "output_type": "execute_result",
          "data": {
            "text/plain": [
              "[['DS5', 2019, True], ['A5', 2019, True]]"
            ]
          },
          "metadata": {},
          "execution_count": 328
        }
      ],
      "source": [
        "[lista for lista in dados if lista[2] == True]"
      ]
    },
    {
      "cell_type": "markdown",
      "metadata": {
        "id": "CKjrvO5Tltoz"
      },
      "source": [
        "# 4.4 Instruções *if-else* e *if-elif-else*\n",
        "\n",
        "#### Formato padrão\n",
        "\n",
        "```\n",
        "if <condição>:\n",
        "    <instruções caso a condição seja verdadeira>\n",
        "else:\n",
        "    <instruções caso a condição não seja verdadeira>\n",
        "```"
      ]
    },
    {
      "cell_type": "code",
      "execution_count": null,
      "metadata": {
        "id": "K_VORb47ltoz"
      },
      "outputs": [],
      "source": [
        "zero_km_Y, zero_km_N = [], []\n",
        "\n",
        "for lista in dados:\n",
        "  if(lista[2] == True):\n",
        "    zero_km_Y.append(lista)\n",
        "  else:\n",
        "    zero_km_N.append(lista)\n",
        "\n",
        "    "
      ]
    },
    {
      "cell_type": "code",
      "execution_count": null,
      "metadata": {
        "id": "vhz5T7jDlto1",
        "colab": {
          "base_uri": "https://localhost:8080/"
        },
        "outputId": "6a15f0cd-5391-4463-8efd-5ad922ea790f"
      },
      "outputs": [
        {
          "output_type": "execute_result",
          "data": {
            "text/plain": [
              "[['DS5', 2019, True], ['A5', 2019, True]]"
            ]
          },
          "metadata": {},
          "execution_count": 332
        }
      ],
      "source": [
        "zero_km_Y"
      ]
    },
    {
      "cell_type": "code",
      "execution_count": null,
      "metadata": {
        "id": "XlvlpPjhlto1",
        "colab": {
          "base_uri": "https://localhost:8080/"
        },
        "outputId": "4d547a49-2afb-4252-c7c5-de0cab54ac45"
      },
      "outputs": [
        {
          "output_type": "execute_result",
          "data": {
            "text/plain": [
              "[['Jetta Variant', 2003, False],\n",
              " ['Passat', 1991, False],\n",
              " ['Crossfox', 1990, False],\n",
              " ['Aston Martin DB4', 2006, False],\n",
              " ['Palio Weekend', 2012, False],\n",
              " ['Série 3 Cabrio', 2009, False],\n",
              " ['Dodge Jorney', 2019, False],\n",
              " ['Carens', 2011, False]]"
            ]
          },
          "metadata": {},
          "execution_count": 333
        }
      ],
      "source": [
        "zero_km_N"
      ]
    },
    {
      "cell_type": "markdown",
      "metadata": {
        "id": "Z2-8WeN1lto2"
      },
      "source": [
        "#### Formato padrão\n",
        "\n",
        "```\n",
        "if <condição 1>:\n",
        "    <instruções caso a condição 1 seja verdadeira>\n",
        "elif <condição 2>:\n",
        "    <instruções caso a condição 2 seja verdadeira>\n",
        "elif <condição 3>:\n",
        "    <instruções caso a condição 3 seja verdadeira>\n",
        "                        .\n",
        "                        .\n",
        "                        .\n",
        "else:\n",
        "    <instruções caso as condições anteriores não sejam verdadeiras>\n",
        "```"
      ]
    },
    {
      "cell_type": "code",
      "execution_count": null,
      "metadata": {
        "id": "ggrbaB4Tlto2",
        "colab": {
          "base_uri": "https://localhost:8080/"
        },
        "outputId": "06e63307-92f5-4826-87ec-3616a0efd6fa"
      },
      "outputs": [
        {
          "output_type": "execute_result",
          "data": {
            "text/plain": [
              "[['Jetta Variant', 2003, False],\n",
              " ['Passat', 1991, False],\n",
              " ['Crossfox', 1990, False],\n",
              " ['DS5', 2019, True],\n",
              " ['Aston Martin DB4', 2006, False],\n",
              " ['Palio Weekend', 2012, False],\n",
              " ['A5', 2019, True],\n",
              " ['Série 3 Cabrio', 2009, False],\n",
              " ['Dodge Jorney', 2019, False],\n",
              " ['Carens', 2011, False]]"
            ]
          },
          "metadata": {},
          "execution_count": 334
        }
      ],
      "source": [
        "dados"
      ]
    },
    {
      "cell_type": "code",
      "execution_count": null,
      "metadata": {
        "id": "KJgRc1F9lto3",
        "colab": {
          "base_uri": "https://localhost:8080/"
        },
        "outputId": "b8579547-9416-47f9-9f5a-4fdb8f437910"
      },
      "outputs": [
        {
          "output_type": "stream",
          "name": "stdout",
          "text": [
            "AND\n",
            "(True and True) o resultado é: True\n",
            "(True and False) o resultado é: False\n",
            "(False and True) o resultado é: False\n",
            "(False and False) o resultado é: False\n"
          ]
        }
      ],
      "source": [
        "print('AND')\n",
        "print(f'(True and True) o resultado é: {True and True}')\n",
        "print(f'(True and False) o resultado é: {True and False}')\n",
        "print(f'(False and True) o resultado é: {False and True}')\n",
        "print(f'(False and False) o resultado é: {False and False}')"
      ]
    },
    {
      "cell_type": "code",
      "execution_count": null,
      "metadata": {
        "id": "sb0mSh-o0aRM",
        "colab": {
          "base_uri": "https://localhost:8080/"
        },
        "outputId": "ff033d6f-090b-436c-e9a6-5a85ff97fbec"
      },
      "outputs": [
        {
          "output_type": "stream",
          "name": "stdout",
          "text": [
            "OR\n",
            "(True or True) o resultado é: True\n",
            "(True or False) o resultado é: True\n",
            "(False or True) o resultado é: True\n",
            "(False or False) o resultado é: False\n"
          ]
        }
      ],
      "source": [
        "print('OR')\n",
        "print(f'(True or True) o resultado é: {True or True}')\n",
        "print(f'(True or False) o resultado é: {True or False}')\n",
        "print(f'(False or True) o resultado é: {False or True}')\n",
        "print(f'(False or False) o resultado é: {False or False}')"
      ]
    },
    {
      "cell_type": "code",
      "execution_count": null,
      "metadata": {
        "id": "AfNdTPzElto3"
      },
      "outputs": [],
      "source": [
        "A, B, C = [], [], []\n",
        "\n",
        "for lista in dados:\n",
        "  if(lista[1] <=2000):\n",
        "    A.append(lista)\n",
        "  elif(lista[1] >2000 and lista[1] <=2010):\n",
        "    B.append(lista)\n",
        "  else:\n",
        "    C.append(lista)"
      ]
    },
    {
      "cell_type": "code",
      "execution_count": null,
      "metadata": {
        "id": "5bN7SuvTlto4",
        "colab": {
          "base_uri": "https://localhost:8080/"
        },
        "outputId": "9c93a989-563b-40db-c808-e8edebaf69ed"
      },
      "outputs": [
        {
          "output_type": "execute_result",
          "data": {
            "text/plain": [
              "[['Passat', 1991, False], ['Crossfox', 1990, False]]"
            ]
          },
          "metadata": {},
          "execution_count": 337
        }
      ],
      "source": [
        "A"
      ]
    },
    {
      "cell_type": "code",
      "execution_count": null,
      "metadata": {
        "id": "dDEl3Vfglto4",
        "colab": {
          "base_uri": "https://localhost:8080/"
        },
        "outputId": "1d8ac6b5-353e-46b8-e58d-3e9011c8461a"
      },
      "outputs": [
        {
          "output_type": "execute_result",
          "data": {
            "text/plain": [
              "[['Jetta Variant', 2003, False],\n",
              " ['Aston Martin DB4', 2006, False],\n",
              " ['Série 3 Cabrio', 2009, False]]"
            ]
          },
          "metadata": {},
          "execution_count": 338
        }
      ],
      "source": [
        "B"
      ]
    },
    {
      "cell_type": "code",
      "execution_count": null,
      "metadata": {
        "id": "Ot4HLQlelto5",
        "colab": {
          "base_uri": "https://localhost:8080/"
        },
        "outputId": "30c74286-c5a2-487f-c594-3added702e62"
      },
      "outputs": [
        {
          "output_type": "execute_result",
          "data": {
            "text/plain": [
              "[['DS5', 2019, True],\n",
              " ['Palio Weekend', 2012, False],\n",
              " ['A5', 2019, True],\n",
              " ['Dodge Jorney', 2019, False],\n",
              " ['Carens', 2011, False]]"
            ]
          },
          "metadata": {},
          "execution_count": 339
        }
      ],
      "source": [
        "C"
      ]
    },
    {
      "cell_type": "code",
      "execution_count": null,
      "metadata": {
        "id": "FN26ZBKJlto5"
      },
      "outputs": [],
      "source": []
    },
    {
      "cell_type": "markdown",
      "metadata": {
        "id": "aRfQfubxlto6"
      },
      "source": [
        "# <font color=green> 5. NUMPY BÁSICO\n",
        "---\n",
        "\n",
        "Numpy é a abreviação de Numerical Python e é um dos pacotes mais importantes para processamento numérico em Python. Numpy oferece a base para a maioria dos pacotes de aplicações científicas que utilizem dados numéricos em Python (estruturas de dados e algoritmos). Pode-se destacar os seguintes recursos que o pacote Numpy contém:\n",
        "\n",
        "- Um poderoso objeto array multidimensional;\n",
        "- Funções matemáticas sofisticadas para operações com arrays sem a necessidade de utilização de laços *for*;\n",
        "- Recursos de algebra linear e geração de números aleatórios\n",
        "\n",
        "Além de seus óbvios usos científicos, o pacote NumPy também é muito utilizado em análise de dados como um eficiente contêiner multidimensional de dados genéricos para transporte entre diversos algoritmos e bibliotecas em Python.\n",
        "\n",
        "**Versão:** 1.16.5\n",
        "\n",
        "**Instalação:** https://scipy.org/install.html\n",
        "\n",
        "**Documentação:** https://numpy.org/doc/1.16/"
      ]
    },
    {
      "cell_type": "markdown",
      "metadata": {
        "id": "RtG2-g1ultme"
      },
      "source": [
        "### Pacotes\n",
        "\n",
        "Existem diversos pacotes Python disponíveis para download na internet. Cada pacote tem como objetivo a solução de determinado tipo de problema e para isso são desenvolvidos novos tipos, funções e métodos.\n",
        "\n",
        "Alguns pacotes são bastante utilizados em um contexto de ciência de dados como por exemplo:\n",
        "\n",
        "- Numpy\n",
        "- Pandas\n",
        "- Scikit-learn\n",
        "- Matplotlib\n",
        "\n",
        "Alguns pacotes não são distribuídos com a instalação default do Python. Neste caso devemos instalar os pacotes que necessitamos em nosso sistema para podermos utilizar suas funcionalidades."
      ]
    },
    {
      "cell_type": "markdown",
      "metadata": {
        "id": "b8prsQjmltme"
      },
      "source": [
        "### Importando todo o pacote"
      ]
    },
    {
      "cell_type": "code",
      "execution_count": null,
      "metadata": {
        "id": "lP0tqXHLltmf"
      },
      "outputs": [],
      "source": [
        "import numpy"
      ]
    },
    {
      "cell_type": "markdown",
      "metadata": {
        "id": "jam0g7EtoD9c"
      },
      "source": [
        "https://numpy.org/doc/1.16/reference/generated/numpy.arange.html"
      ]
    },
    {
      "cell_type": "code",
      "execution_count": null,
      "metadata": {
        "id": "Y40UP3K7ltmg",
        "colab": {
          "base_uri": "https://localhost:8080/"
        },
        "outputId": "68822c31-666d-4b48-a0c7-06e3c0fa4469"
      },
      "outputs": [
        {
          "output_type": "execute_result",
          "data": {
            "text/plain": [
              "array([0, 1, 2, 3, 4, 5, 6, 7, 8, 9])"
            ]
          },
          "metadata": {},
          "execution_count": 341
        }
      ],
      "source": [
        "numpy.arange(10)"
      ]
    },
    {
      "cell_type": "markdown",
      "metadata": {
        "id": "84-53f4Lltmh"
      },
      "source": [
        "### Importando todo o pacote e atribuindo um novo nome "
      ]
    },
    {
      "cell_type": "code",
      "execution_count": null,
      "metadata": {
        "id": "CzESWck7ltmi"
      },
      "outputs": [],
      "source": [
        "import numpy as np"
      ]
    },
    {
      "cell_type": "code",
      "execution_count": null,
      "metadata": {
        "id": "RC7Dr5Viltmj",
        "colab": {
          "base_uri": "https://localhost:8080/"
        },
        "outputId": "b28c6c07-de5d-4f05-d398-0aeadb4e5e1a"
      },
      "outputs": [
        {
          "output_type": "execute_result",
          "data": {
            "text/plain": [
              "array([0, 1, 2, 3, 4, 5, 6, 7, 8, 9])"
            ]
          },
          "metadata": {},
          "execution_count": 344
        }
      ],
      "source": [
        "np.arange(10)"
      ]
    },
    {
      "cell_type": "markdown",
      "metadata": {
        "id": "WWawttSpltml"
      },
      "source": [
        "### Importando parte do pacote"
      ]
    },
    {
      "cell_type": "code",
      "execution_count": null,
      "metadata": {
        "id": "8kTeo3Ltltmo"
      },
      "outputs": [],
      "source": [
        "from numpy import arange"
      ]
    },
    {
      "cell_type": "code",
      "execution_count": null,
      "metadata": {
        "id": "4LPnpiEwltmt",
        "colab": {
          "base_uri": "https://localhost:8080/"
        },
        "outputId": "7b51b951-7f75-491b-919a-0dbcbac80016"
      },
      "outputs": [
        {
          "output_type": "execute_result",
          "data": {
            "text/plain": [
              "array([0, 1, 2, 3, 4, 5, 6, 7, 8, 9])"
            ]
          },
          "metadata": {},
          "execution_count": 347
        }
      ],
      "source": [
        "arange(10)"
      ]
    },
    {
      "cell_type": "markdown",
      "metadata": {
        "id": "VSmffnCklto6"
      },
      "source": [
        "# 5.1 Criando arrays Numpy"
      ]
    },
    {
      "cell_type": "code",
      "execution_count": null,
      "metadata": {
        "id": "Wqpin_-Plto8"
      },
      "outputs": [],
      "source": [
        "import numpy as np"
      ]
    },
    {
      "cell_type": "markdown",
      "metadata": {
        "id": "ock4Ku-Ulto8"
      },
      "source": [
        "### A partir de listas\n",
        "\n",
        "https://numpy.org/doc/1.16/user/basics.creation.html"
      ]
    },
    {
      "cell_type": "code",
      "execution_count": null,
      "metadata": {
        "id": "82H-09CQlto9"
      },
      "outputs": [],
      "source": [
        "km = np.array([1000, 2300, 4987, 1500])"
      ]
    },
    {
      "cell_type": "code",
      "execution_count": null,
      "metadata": {
        "id": "8VYE3JSYlto9",
        "colab": {
          "base_uri": "https://localhost:8080/"
        },
        "outputId": "cefb6ebb-72ec-43c1-af63-2e6be2762686"
      },
      "outputs": [
        {
          "output_type": "execute_result",
          "data": {
            "text/plain": [
              "array([1000, 2300, 4987, 1500])"
            ]
          },
          "metadata": {},
          "execution_count": 350
        }
      ],
      "source": [
        "km"
      ]
    },
    {
      "cell_type": "code",
      "execution_count": null,
      "metadata": {
        "id": "OBsa5Cfplto-",
        "colab": {
          "base_uri": "https://localhost:8080/"
        },
        "outputId": "8e296ff6-f5c8-4c5a-b439-eb7cca3ff348"
      },
      "outputs": [
        {
          "output_type": "execute_result",
          "data": {
            "text/plain": [
              "numpy.ndarray"
            ]
          },
          "metadata": {},
          "execution_count": 351
        }
      ],
      "source": [
        "type(km)"
      ]
    },
    {
      "cell_type": "markdown",
      "metadata": {
        "id": "RfQ3jJSAlto-"
      },
      "source": [
        "https://numpy.org/doc/1.16/user/basics.types.html"
      ]
    },
    {
      "cell_type": "code",
      "execution_count": null,
      "metadata": {
        "id": "6yLpkJcAlto-",
        "colab": {
          "base_uri": "https://localhost:8080/"
        },
        "outputId": "2a2d90b2-28c6-45e6-c14a-812d4ea2afed"
      },
      "outputs": [
        {
          "output_type": "execute_result",
          "data": {
            "text/plain": [
              "dtype('int64')"
            ]
          },
          "metadata": {},
          "execution_count": 352
        }
      ],
      "source": [
        "km.dtype"
      ]
    },
    {
      "cell_type": "markdown",
      "metadata": {
        "id": "1pFx86QPlto_"
      },
      "source": [
        "### A partir de dados externos\n",
        "\n",
        "https://numpy.org/doc/1.16/reference/generated/numpy.loadtxt.html"
      ]
    },
    {
      "cell_type": "code",
      "execution_count": null,
      "metadata": {
        "id": "26pQLNgrlto_"
      },
      "outputs": [],
      "source": [
        "km = np.loadtxt(fname='carros-km.txt', dtype = int)"
      ]
    },
    {
      "cell_type": "code",
      "execution_count": null,
      "metadata": {
        "id": "FoP42bdpltpA",
        "scrolled": true,
        "colab": {
          "base_uri": "https://localhost:8080/"
        },
        "outputId": "d0723b39-6941-46c4-abfd-cd7ba0a7c44c"
      },
      "outputs": [
        {
          "output_type": "execute_result",
          "data": {
            "text/plain": [
              "array([ 44410,   5712,  37123,      0,  25757,  10728,      0,  77599,\n",
              "        99197,  37978,  12859,   8052,  89773,      0,  41457, 115607,\n",
              "        46449,      0,  37086,  15173, 101193,      0,  98079, 102959,\n",
              "            0,      0,   5795,      0,  58848,  94381,  30163,  53332,\n",
              "        17720,  33808,  90684,  43975,      0,      0,   5526,      0,\n",
              "        93415,  40762,      0,  86302,      0,   9755,  69945,   2395,\n",
              "            0,  80349,  85554,  50496,  67716,  93947,  35345,  81007,\n",
              "       119513,      0,      0,      0,      0,      0, 118895,  48509,\n",
              "       100912,  95649,      0,  90495,      0,  29132,  23802,  84992,\n",
              "        54395,  26731,  44329, 118236, 113808,    610,      0,      0,\n",
              "        12887,  79607,  90924,  42733,      0,      0, 117714, 113885,\n",
              "            0,  30511,  74867, 119760,   8356,  64247,  88661,   4539,\n",
              "       110116,  33215,  92001,      0,  81708,  70641,      0,  91277,\n",
              "        26544,  52596,  47503,  89056,  28834, 110564,  56638,  17357,\n",
              "        74015,  15196,      0,  10821,      0,      0,   9595,  99052,\n",
              "        52389, 119945,  96005,  31639,      0,  80187,      0,  58212,\n",
              "        61672,  32017,      0,  56944,      0,  86519,   4821, 101025,\n",
              "        30705,      0,  32555, 103389,      0,  55289,      0,      0,\n",
              "       115930,  66437,  96800,  14237,  19896, 113045, 114942,   3173,\n",
              "        83611,  25356,  88634,   2314,   2627,  52034,      0,      0,\n",
              "        79577, 108201,  76453,  57683,  96610, 109001,  26212,  45971,\n",
              "        49182,  49907,  38620,  60996,  73914, 107392,   9146,      0,\n",
              "        17924,      0, 116949,  20476,  52804,   8849,  91724,  32056,\n",
              "        74886,      0,      0,  52189,  83559,      0,  20328,      0,\n",
              "        75577,  33659, 104341,  25510,  18965,  87161,   6652,  55738,\n",
              "            0,      0,      0,  64320,      0,  68678,  71697,      0,\n",
              "        34783,  33772,  85127,  13606,  35647,  95128,  14046,  41194,\n",
              "            0,  96100, 103900,  43814,  24638,      0, 110966,  15987,\n",
              "        53369,  10077,  71544,    107,   8394,  41498, 116002, 100858,\n",
              "        67475,   8497,   4420,      0,  58537,      0,      0, 112016,\n",
              "        91840, 112787,      0,      0,   9293,      0,  55083,  48796,\n",
              "            0,  89685,  85384,  98108,  71280,  27505,  29981,  52637,\n",
              "         7685,  50188])"
            ]
          },
          "metadata": {},
          "execution_count": 354
        }
      ],
      "source": [
        "km"
      ]
    },
    {
      "cell_type": "code",
      "execution_count": null,
      "metadata": {
        "id": "MNPjZJbYltpA",
        "colab": {
          "base_uri": "https://localhost:8080/"
        },
        "outputId": "1aa5da88-6d90-4225-cdd6-53a053f9ffc3"
      },
      "outputs": [
        {
          "output_type": "execute_result",
          "data": {
            "text/plain": [
              "dtype('int64')"
            ]
          },
          "metadata": {},
          "execution_count": 355
        }
      ],
      "source": [
        "km.dtype"
      ]
    },
    {
      "cell_type": "markdown",
      "metadata": {
        "id": "_wnTg0wJltpB"
      },
      "source": [
        "### Arrays com duas dimensões"
      ]
    },
    {
      "cell_type": "code",
      "execution_count": null,
      "metadata": {
        "id": "Gt1dL27GltpB",
        "scrolled": true,
        "colab": {
          "base_uri": "https://localhost:8080/"
        },
        "outputId": "27ace9a0-946c-4604-9bd0-9a404805556b"
      },
      "outputs": [
        {
          "output_type": "execute_result",
          "data": {
            "text/plain": [
              "[['Rodas de liga',\n",
              "  'Travas elétricas',\n",
              "  'Piloto automático',\n",
              "  'Bancos de couro',\n",
              "  'Ar condicionado',\n",
              "  'Sensor de estacionamento',\n",
              "  'Sensor crepuscular',\n",
              "  'Sensor de chuva'],\n",
              " ['Central multimídia',\n",
              "  'Teto panorâmico',\n",
              "  'Freios ABS',\n",
              "  '4 X 4',\n",
              "  'Painel digital',\n",
              "  'Piloto automático',\n",
              "  'Bancos de couro',\n",
              "  'Câmera de estacionamento'],\n",
              " ['Piloto automático',\n",
              "  'Controle de estabilidade',\n",
              "  'Sensor crepuscular',\n",
              "  'Freios ABS',\n",
              "  'Câmbio automático',\n",
              "  'Bancos de couro',\n",
              "  'Central multimídia',\n",
              "  'Vidros elétricos']]"
            ]
          },
          "metadata": {},
          "execution_count": 356
        }
      ],
      "source": [
        "dados = [ \n",
        "    ['Rodas de liga', 'Travas elétricas', 'Piloto automático', 'Bancos de couro', 'Ar condicionado', 'Sensor de estacionamento', 'Sensor crepuscular', 'Sensor de chuva'],\n",
        "    ['Central multimídia', 'Teto panorâmico', 'Freios ABS', '4 X 4', 'Painel digital', 'Piloto automático', 'Bancos de couro', 'Câmera de estacionamento'],\n",
        "    ['Piloto automático', 'Controle de estabilidade', 'Sensor crepuscular', 'Freios ABS', 'Câmbio automático', 'Bancos de couro', 'Central multimídia', 'Vidros elétricos']\n",
        "]\n",
        "dados"
      ]
    },
    {
      "cell_type": "code",
      "execution_count": null,
      "metadata": {
        "id": "IlbYeZPkltpC"
      },
      "outputs": [],
      "source": [
        "Acessorios = np.array(dados)"
      ]
    },
    {
      "cell_type": "code",
      "execution_count": null,
      "metadata": {
        "id": "FgjmWozgltpD",
        "scrolled": true,
        "colab": {
          "base_uri": "https://localhost:8080/"
        },
        "outputId": "4f616b01-9402-4d65-9404-7bc2f3683c76"
      },
      "outputs": [
        {
          "output_type": "execute_result",
          "data": {
            "text/plain": [
              "array([['Rodas de liga', 'Travas elétricas', 'Piloto automático',\n",
              "        'Bancos de couro', 'Ar condicionado', 'Sensor de estacionamento',\n",
              "        'Sensor crepuscular', 'Sensor de chuva'],\n",
              "       ['Central multimídia', 'Teto panorâmico', 'Freios ABS', '4 X 4',\n",
              "        'Painel digital', 'Piloto automático', 'Bancos de couro',\n",
              "        'Câmera de estacionamento'],\n",
              "       ['Piloto automático', 'Controle de estabilidade',\n",
              "        'Sensor crepuscular', 'Freios ABS', 'Câmbio automático',\n",
              "        'Bancos de couro', 'Central multimídia', 'Vidros elétricos']],\n",
              "      dtype='<U24')"
            ]
          },
          "metadata": {},
          "execution_count": 358
        }
      ],
      "source": [
        "Acessorios"
      ]
    },
    {
      "cell_type": "code",
      "execution_count": null,
      "metadata": {
        "id": "TDM9HskUltpD",
        "colab": {
          "base_uri": "https://localhost:8080/"
        },
        "outputId": "0ce5cf73-10e4-4490-da5b-e98db3dab6ed"
      },
      "outputs": [
        {
          "output_type": "execute_result",
          "data": {
            "text/plain": [
              "(258,)"
            ]
          },
          "metadata": {},
          "execution_count": 359
        }
      ],
      "source": [
        "km.shape"
      ]
    },
    {
      "cell_type": "code",
      "execution_count": null,
      "metadata": {
        "id": "bBmnzpF5ltpE",
        "colab": {
          "base_uri": "https://localhost:8080/"
        },
        "outputId": "e13de6db-61da-43ff-e8f0-37e947514d81"
      },
      "outputs": [
        {
          "output_type": "execute_result",
          "data": {
            "text/plain": [
              "(3, 8)"
            ]
          },
          "metadata": {},
          "execution_count": 360
        }
      ],
      "source": [
        "Acessorios.shape"
      ]
    },
    {
      "cell_type": "markdown",
      "metadata": {
        "id": "cPbkST9pltpE"
      },
      "source": [
        "### Comparando desempenho com listas"
      ]
    },
    {
      "cell_type": "code",
      "execution_count": null,
      "metadata": {
        "id": "tTPC-G4vltpE"
      },
      "outputs": [],
      "source": [
        "np_array = np.arange(1000000)"
      ]
    },
    {
      "cell_type": "code",
      "execution_count": null,
      "metadata": {
        "id": "PIC-ndg9ltpF"
      },
      "outputs": [],
      "source": [
        "py_list = list(range(1000000))"
      ]
    },
    {
      "cell_type": "code",
      "execution_count": null,
      "metadata": {
        "id": "vXy57nk2ltpF",
        "colab": {
          "base_uri": "https://localhost:8080/"
        },
        "outputId": "1788c4da-ef4f-46e9-8215-3c1f97771b5b"
      },
      "outputs": [
        {
          "output_type": "stream",
          "name": "stdout",
          "text": [
            "CPU times: user 63.8 ms, sys: 0 ns, total: 63.8 ms\n",
            "Wall time: 64.5 ms\n"
          ]
        }
      ],
      "source": [
        "%time for _ in range (100): np_array *= 2"
      ]
    },
    {
      "cell_type": "code",
      "execution_count": null,
      "metadata": {
        "id": "I94lVgCRltpG",
        "colab": {
          "base_uri": "https://localhost:8080/"
        },
        "outputId": "28625e35-719c-4036-c617-1b2140542f47"
      },
      "outputs": [
        {
          "output_type": "stream",
          "name": "stdout",
          "text": [
            "CPU times: user 9.24 s, sys: 2.29 s, total: 11.5 s\n",
            "Wall time: 12.3 s\n"
          ]
        }
      ],
      "source": [
        "%time for _ in range(100): py_list = list = [x * 2 for x in py_list]"
      ]
    },
    {
      "cell_type": "markdown",
      "metadata": {
        "id": "ul4MuKyTltpG"
      },
      "source": [
        "# 5.2 Operações aritméticas com arrays Numpy"
      ]
    },
    {
      "cell_type": "markdown",
      "metadata": {
        "id": "QwnxO_rYltpH"
      },
      "source": [
        "### Operações entre arrays e constantes"
      ]
    },
    {
      "cell_type": "code",
      "execution_count": null,
      "metadata": {
        "id": "63KVHPK0ltpH"
      },
      "outputs": [],
      "source": [
        "km = [44410., 5712., 37123., 0., 25757.]\n",
        "anos = [2003, 1991, 1990, 2019, 2006]"
      ]
    },
    {
      "cell_type": "code",
      "execution_count": null,
      "metadata": {
        "id": "AryIZaBIltpH"
      },
      "outputs": [],
      "source": [
        "# idade = 2019 - anos"
      ]
    },
    {
      "cell_type": "code",
      "execution_count": null,
      "metadata": {
        "id": "s8GvEk4HltpI"
      },
      "outputs": [],
      "source": [
        "km = np.array([44410., 5712., 37123., 0., 25757.])\n",
        "anos = np.array([2003, 1991, 1990, 2019, 2006])"
      ]
    },
    {
      "cell_type": "code",
      "execution_count": null,
      "metadata": {
        "id": "aUnYV7OultpI"
      },
      "outputs": [],
      "source": [
        "idade = 2019 - anos"
      ]
    },
    {
      "cell_type": "code",
      "execution_count": null,
      "metadata": {
        "id": "vg5yZ9IpltpJ",
        "colab": {
          "base_uri": "https://localhost:8080/"
        },
        "outputId": "e8d21d0b-620b-4ef2-c9d1-7547574739f9"
      },
      "outputs": [
        {
          "output_type": "execute_result",
          "data": {
            "text/plain": [
              "array([16, 28, 29,  0, 13])"
            ]
          },
          "metadata": {},
          "execution_count": 369
        }
      ],
      "source": [
        "idade"
      ]
    },
    {
      "cell_type": "markdown",
      "metadata": {
        "id": "qn1PUsM9ltpJ"
      },
      "source": [
        "### Operações entre arrays"
      ]
    },
    {
      "cell_type": "code",
      "execution_count": null,
      "metadata": {
        "id": "gU_d5aZkltpJ",
        "colab": {
          "base_uri": "https://localhost:8080/"
        },
        "outputId": "b2b70d10-a5af-4eee-fe77-26757e769d0e"
      },
      "outputs": [
        {
          "output_type": "stream",
          "name": "stderr",
          "text": [
            "/usr/local/lib/python3.7/dist-packages/ipykernel_launcher.py:1: RuntimeWarning: invalid value encountered in true_divide\n",
            "  \"\"\"Entry point for launching an IPython kernel.\n"
          ]
        }
      ],
      "source": [
        "km_media = km / idade"
      ]
    },
    {
      "cell_type": "code",
      "execution_count": null,
      "metadata": {
        "id": "U9DXntUEltpK",
        "colab": {
          "base_uri": "https://localhost:8080/"
        },
        "outputId": "4df3f736-f27b-42fe-84b0-1d41febbbbd1"
      },
      "outputs": [
        {
          "output_type": "execute_result",
          "data": {
            "text/plain": [
              "array([2775.625     ,  204.        , 1280.10344828,           nan,\n",
              "       1981.30769231])"
            ]
          },
          "metadata": {},
          "execution_count": 372
        }
      ],
      "source": [
        "km_media"
      ]
    },
    {
      "cell_type": "code",
      "execution_count": null,
      "metadata": {
        "id": "n0rPxgY1ltpL"
      },
      "outputs": [],
      "source": []
    },
    {
      "cell_type": "markdown",
      "metadata": {
        "id": "o4-gsGICltpN"
      },
      "source": [
        "### Operações com arrays de duas dimensões"
      ]
    },
    {
      "cell_type": "code",
      "execution_count": null,
      "metadata": {
        "id": "VT71Pbb3ltpN"
      },
      "outputs": [],
      "source": [
        "dados = np.array([km, anos])"
      ]
    },
    {
      "cell_type": "code",
      "execution_count": null,
      "metadata": {
        "id": "bgDe00q8ltpO",
        "colab": {
          "base_uri": "https://localhost:8080/"
        },
        "outputId": "402df709-afa4-4fc5-bde8-b6a605c4d70d"
      },
      "outputs": [
        {
          "output_type": "execute_result",
          "data": {
            "text/plain": [
              "array([[44410.,  5712., 37123.,     0., 25757.],\n",
              "       [ 2003.,  1991.,  1990.,  2019.,  2006.]])"
            ]
          },
          "metadata": {},
          "execution_count": 374
        }
      ],
      "source": [
        "dados"
      ]
    },
    {
      "cell_type": "code",
      "execution_count": null,
      "metadata": {
        "id": "jIQU2ugKltpP"
      },
      "outputs": [],
      "source": []
    },
    {
      "cell_type": "markdown",
      "metadata": {
        "id": "dsgz-E5ZltpP"
      },
      "source": [
        "![1410-img01.png](https://caelum-online-public.s3.amazonaws.com/1410-pythondatascience/01/1410-img01.png)"
      ]
    },
    {
      "cell_type": "code",
      "execution_count": null,
      "metadata": {
        "id": "imANn6HultpQ",
        "colab": {
          "base_uri": "https://localhost:8080/"
        },
        "outputId": "db24f8ae-5372-427e-b673-0adf3b59fcf1"
      },
      "outputs": [
        {
          "output_type": "execute_result",
          "data": {
            "text/plain": [
              "array([44410.,  5712., 37123.,     0., 25757.])"
            ]
          },
          "metadata": {},
          "execution_count": 375
        }
      ],
      "source": [
        "dados[0]"
      ]
    },
    {
      "cell_type": "code",
      "execution_count": null,
      "metadata": {
        "id": "Nkp9ljkvltpQ",
        "colab": {
          "base_uri": "https://localhost:8080/"
        },
        "outputId": "e290e11d-0db2-4e35-f31c-2f1830e9cae4"
      },
      "outputs": [
        {
          "output_type": "execute_result",
          "data": {
            "text/plain": [
              "array([2003., 1991., 1990., 2019., 2006.])"
            ]
          },
          "metadata": {},
          "execution_count": 376
        }
      ],
      "source": [
        "dados[1]"
      ]
    },
    {
      "cell_type": "code",
      "execution_count": null,
      "metadata": {
        "id": "njJ2z3HJltpR",
        "colab": {
          "base_uri": "https://localhost:8080/"
        },
        "outputId": "39863321-acd9-4393-e0b6-9f9747092f48"
      },
      "outputs": [
        {
          "output_type": "stream",
          "name": "stderr",
          "text": [
            "/usr/local/lib/python3.7/dist-packages/ipykernel_launcher.py:1: RuntimeWarning: invalid value encountered in true_divide\n",
            "  \"\"\"Entry point for launching an IPython kernel.\n"
          ]
        }
      ],
      "source": [
        "km_media = dados[0] / (2019 - dados[1])"
      ]
    },
    {
      "cell_type": "code",
      "source": [
        "km_media"
      ],
      "metadata": {
        "colab": {
          "base_uri": "https://localhost:8080/"
        },
        "id": "3dqd1_LqZUHi",
        "outputId": "1825748c-cde9-47d5-d55e-d185faef2e06"
      },
      "execution_count": null,
      "outputs": [
        {
          "output_type": "execute_result",
          "data": {
            "text/plain": [
              "array([2775.625     ,  204.        , 1280.10344828,           nan,\n",
              "       1981.30769231])"
            ]
          },
          "metadata": {},
          "execution_count": 378
        }
      ]
    },
    {
      "cell_type": "markdown",
      "metadata": {
        "id": "4CAwtS0-ltpR"
      },
      "source": [
        "# 5.3 Seleções com arrays Numpy"
      ]
    },
    {
      "cell_type": "markdown",
      "metadata": {
        "id": "QDAT1vODltpS"
      },
      "source": [
        "![1410-img01.png](https://caelum-online-public.s3.amazonaws.com/1410-pythondatascience/01/1410-img01.png)"
      ]
    },
    {
      "cell_type": "code",
      "execution_count": null,
      "metadata": {
        "id": "nZpPGS2TltpS",
        "colab": {
          "base_uri": "https://localhost:8080/"
        },
        "outputId": "27eb38fe-84b4-4e86-8e4b-857ce4666b71"
      },
      "outputs": [
        {
          "output_type": "execute_result",
          "data": {
            "text/plain": [
              "array([[44410.,  5712., 37123.,     0., 25757.],\n",
              "       [ 2003.,  1991.,  1990.,  2019.,  2006.]])"
            ]
          },
          "metadata": {},
          "execution_count": 379
        }
      ],
      "source": [
        "dados"
      ]
    },
    {
      "cell_type": "markdown",
      "metadata": {
        "id": "b--BIPcOltpT"
      },
      "source": [
        "![1410-img02.png](https://caelum-online-public.s3.amazonaws.com/1410-pythondatascience/01/1410-img02.png)"
      ]
    },
    {
      "cell_type": "markdown",
      "metadata": {
        "id": "86-hOHa7ltpT"
      },
      "source": [
        "### Indexação \n",
        "\n",
        "<font color=red>**Observação:**</font> A indexação tem origem no zero."
      ]
    },
    {
      "cell_type": "code",
      "execution_count": null,
      "metadata": {
        "id": "mr0Q_X0JltpT",
        "colab": {
          "base_uri": "https://localhost:8080/"
        },
        "outputId": "6646356e-a64d-47c8-9e19-da80b8f7c049"
      },
      "outputs": [
        {
          "output_type": "execute_result",
          "data": {
            "text/plain": [
              "array([0, 1, 2, 3, 4, 5, 6, 7, 8, 9])"
            ]
          },
          "metadata": {},
          "execution_count": 380
        }
      ],
      "source": [
        "contador = np.arange(10)\n",
        "contador"
      ]
    },
    {
      "cell_type": "code",
      "execution_count": null,
      "metadata": {
        "id": "VxiR_IgdltpU",
        "colab": {
          "base_uri": "https://localhost:8080/"
        },
        "outputId": "d8ec056e-e4e5-44cd-ead8-b8e4d5baa38f"
      },
      "outputs": [
        {
          "output_type": "execute_result",
          "data": {
            "text/plain": [
              "5"
            ]
          },
          "metadata": {},
          "execution_count": 381
        }
      ],
      "source": [
        "item = 6\n",
        "index = item - 1\n",
        "contador[index]"
      ]
    },
    {
      "cell_type": "code",
      "execution_count": null,
      "metadata": {
        "id": "xGDomIyAltpU",
        "colab": {
          "base_uri": "https://localhost:8080/"
        },
        "outputId": "f32722e1-215e-444c-dc6c-f02e1d4a3d01"
      },
      "outputs": [
        {
          "output_type": "execute_result",
          "data": {
            "text/plain": [
              "9"
            ]
          },
          "metadata": {},
          "execution_count": 382
        }
      ],
      "source": [
        "contador[-1]"
      ]
    },
    {
      "cell_type": "code",
      "execution_count": null,
      "metadata": {
        "id": "QEO5Za5PltpV",
        "colab": {
          "base_uri": "https://localhost:8080/"
        },
        "outputId": "d1a2a99a-4a5d-40a3-c1d6-550f02e97d62"
      },
      "outputs": [
        {
          "output_type": "execute_result",
          "data": {
            "text/plain": [
              "array([44410.,  5712., 37123.,     0., 25757.])"
            ]
          },
          "metadata": {},
          "execution_count": 383
        }
      ],
      "source": [
        "dados[0]"
      ]
    },
    {
      "cell_type": "code",
      "execution_count": null,
      "metadata": {
        "id": "rvkeMK8KltpV",
        "colab": {
          "base_uri": "https://localhost:8080/"
        },
        "outputId": "e232bb71-6923-472b-8f5a-696f4de12731"
      },
      "outputs": [
        {
          "output_type": "execute_result",
          "data": {
            "text/plain": [
              "array([2003., 1991., 1990., 2019., 2006.])"
            ]
          },
          "metadata": {},
          "execution_count": 384
        }
      ],
      "source": [
        "dados[1]"
      ]
    },
    {
      "cell_type": "code",
      "execution_count": null,
      "metadata": {
        "id": "X8c-lJRJltpW"
      },
      "outputs": [],
      "source": []
    },
    {
      "cell_type": "markdown",
      "metadata": {
        "id": "fCWUSI1zltpZ"
      },
      "source": [
        "## <font color=green>**Dica:**</font>\n",
        "### *ndarray[ linha ][ coluna ]* ou *ndarray[ linha, coluna ]*"
      ]
    },
    {
      "cell_type": "code",
      "execution_count": null,
      "metadata": {
        "id": "Nxc3uY-ZltpZ",
        "colab": {
          "base_uri": "https://localhost:8080/"
        },
        "outputId": "17317b5f-3e99-4f62-e60a-37c268bfc7d4"
      },
      "outputs": [
        {
          "output_type": "execute_result",
          "data": {
            "text/plain": [
              "1990.0"
            ]
          },
          "metadata": {},
          "execution_count": 386
        }
      ],
      "source": [
        "dados[1,2]"
      ]
    },
    {
      "cell_type": "code",
      "execution_count": null,
      "metadata": {
        "id": "xp8ByjualtpZ",
        "colab": {
          "base_uri": "https://localhost:8080/"
        },
        "outputId": "463124b9-32c0-4fb1-f1a9-b361c6565fee"
      },
      "outputs": [
        {
          "output_type": "execute_result",
          "data": {
            "text/plain": [
              "1990.0"
            ]
          },
          "metadata": {},
          "execution_count": 387
        }
      ],
      "source": [
        "dados[1][2]"
      ]
    },
    {
      "cell_type": "markdown",
      "metadata": {
        "id": "7osmTUC4ltpa"
      },
      "source": [
        " ### Fatiamentos\n",
        " \n",
        "A sintaxe para realizar fatiamento em um array Numpy é $i : j : k$ onde $i$ é o índice inicial, $j$ é o índice de parada, e $k$ é o indicador de passo ($k\\neq0$)\n",
        " \n",
        "<font color=red>**Observação:**</font> Nos fatiamentos (*slices*) o item com índice i é **incluído** e o item com índice j **não é incluído** no resultado."
      ]
    },
    {
      "cell_type": "markdown",
      "metadata": {
        "id": "HEx4TbNlltpa"
      },
      "source": [
        "![1410-img01.png](https://caelum-online-public.s3.amazonaws.com/1410-pythondatascience/01/1410-img01.png)"
      ]
    },
    {
      "cell_type": "code",
      "execution_count": null,
      "metadata": {
        "id": "tlaD1SENltpb"
      },
      "outputs": [],
      "source": []
    },
    {
      "cell_type": "code",
      "execution_count": null,
      "metadata": {
        "id": "vXLIO1cVltpc"
      },
      "outputs": [],
      "source": []
    },
    {
      "cell_type": "code",
      "execution_count": null,
      "metadata": {
        "id": "kYLgsQcHltpc"
      },
      "outputs": [],
      "source": []
    },
    {
      "cell_type": "code",
      "execution_count": null,
      "metadata": {
        "id": "H2MJpIasltpd"
      },
      "outputs": [],
      "source": []
    },
    {
      "cell_type": "code",
      "execution_count": null,
      "metadata": {
        "id": "YVzf4fNCltpe"
      },
      "outputs": [],
      "source": []
    },
    {
      "cell_type": "code",
      "execution_count": null,
      "metadata": {
        "id": "bPyQsUFPltpf"
      },
      "outputs": [],
      "source": []
    },
    {
      "cell_type": "code",
      "execution_count": null,
      "metadata": {
        "id": "IRxfixG-ltpg"
      },
      "outputs": [],
      "source": []
    },
    {
      "cell_type": "code",
      "execution_count": null,
      "metadata": {
        "id": "wfoJ84haltph"
      },
      "outputs": [],
      "source": []
    },
    {
      "cell_type": "code",
      "execution_count": null,
      "metadata": {
        "id": "UeejSXUAltph"
      },
      "outputs": [],
      "source": []
    },
    {
      "cell_type": "markdown",
      "metadata": {
        "id": "-fW4EXIqltpi"
      },
      "source": [
        "### Indexação com array booleano\n",
        "\n",
        "<font color=red>**Observação:**</font> Seleciona um grupo de linhas e colunas segundo os rótulos ou um array booleano."
      ]
    },
    {
      "cell_type": "code",
      "execution_count": null,
      "metadata": {
        "id": "MgmH-rCSltpi",
        "colab": {
          "base_uri": "https://localhost:8080/"
        },
        "outputId": "4935e2e8-69ef-433a-e4f1-99b558b02cb6"
      },
      "outputs": [
        {
          "output_type": "execute_result",
          "data": {
            "text/plain": [
              "array([0, 1, 2, 3, 4, 5, 6, 7, 8, 9])"
            ]
          },
          "metadata": {},
          "execution_count": 388
        }
      ],
      "source": [
        "contador = np.arange(10)\n",
        "contador"
      ]
    },
    {
      "cell_type": "code",
      "execution_count": null,
      "metadata": {
        "id": "HN1i-BlLltpj"
      },
      "outputs": [],
      "source": []
    },
    {
      "cell_type": "code",
      "execution_count": null,
      "metadata": {
        "id": "iXJa9tL4ltpj"
      },
      "outputs": [],
      "source": []
    },
    {
      "cell_type": "code",
      "execution_count": null,
      "metadata": {
        "id": "54gH6X5eltpk"
      },
      "outputs": [],
      "source": []
    },
    {
      "cell_type": "code",
      "execution_count": null,
      "metadata": {
        "id": "F3z6zMELltpk"
      },
      "outputs": [],
      "source": []
    },
    {
      "cell_type": "code",
      "execution_count": null,
      "metadata": {
        "id": "pk8A68z1ltpl"
      },
      "outputs": [],
      "source": []
    },
    {
      "cell_type": "code",
      "execution_count": null,
      "metadata": {
        "id": "WUVMN29_ltpm"
      },
      "outputs": [],
      "source": []
    },
    {
      "cell_type": "code",
      "source": [],
      "metadata": {
        "id": "xYfaiVUeZRpG"
      },
      "execution_count": null,
      "outputs": []
    },
    {
      "cell_type": "markdown",
      "metadata": {
        "id": "Acw1DffHltpn"
      },
      "source": [
        "# 5.4 Atributos e métodos de arrays Numpy"
      ]
    },
    {
      "cell_type": "markdown",
      "metadata": {
        "id": "RBnSne6Eltpo"
      },
      "source": [
        "### Atributos\n",
        "\n",
        "https://numpy.org/doc/1.16/reference/arrays.ndarray.html#array-attributes"
      ]
    },
    {
      "cell_type": "code",
      "execution_count": null,
      "metadata": {
        "id": "stjvD6m8ltpo"
      },
      "outputs": [],
      "source": []
    },
    {
      "cell_type": "markdown",
      "metadata": {
        "id": "uKqPxg2Zltpo"
      },
      "source": [
        "## *ndarray.shape*\n",
        "\n",
        "Retorna uma tupla com as dimensões do array."
      ]
    },
    {
      "cell_type": "code",
      "execution_count": null,
      "metadata": {
        "id": "gmaZhF04ltpp"
      },
      "outputs": [],
      "source": []
    },
    {
      "cell_type": "markdown",
      "metadata": {
        "id": "XaY6oXkmltpp"
      },
      "source": [
        "## *ndarray.ndim*\n",
        "\n",
        "Retorna o número de dimensões do array."
      ]
    },
    {
      "cell_type": "code",
      "execution_count": null,
      "metadata": {
        "id": "inJ4HDjaltpq"
      },
      "outputs": [],
      "source": []
    },
    {
      "cell_type": "markdown",
      "metadata": {
        "id": "ESgVt5xOltpq"
      },
      "source": [
        "## *ndarray.size*\n",
        "\n",
        "Retorna o número de elementos do array."
      ]
    },
    {
      "cell_type": "code",
      "execution_count": null,
      "metadata": {
        "id": "BWr4efoiltpq"
      },
      "outputs": [],
      "source": []
    },
    {
      "cell_type": "markdown",
      "metadata": {
        "id": "Ox8JlBM3ltpr"
      },
      "source": [
        "## *ndarray.dtype*\n",
        "\n",
        "Retorna o tipo de dados dos elementos do array."
      ]
    },
    {
      "cell_type": "code",
      "execution_count": null,
      "metadata": {
        "id": "npiL84Vfltpu"
      },
      "outputs": [],
      "source": []
    },
    {
      "cell_type": "markdown",
      "metadata": {
        "id": "j7uPN16oltpv"
      },
      "source": [
        "## *ndarray.T*\n",
        "\n",
        "Retorna o array transposto, isto é, converte linhas em colunas e vice versa."
      ]
    },
    {
      "cell_type": "code",
      "execution_count": null,
      "metadata": {
        "id": "bLjrrx56ltpv"
      },
      "outputs": [],
      "source": []
    },
    {
      "cell_type": "code",
      "execution_count": null,
      "metadata": {
        "id": "5A9SlJQvltpw"
      },
      "outputs": [],
      "source": []
    },
    {
      "cell_type": "markdown",
      "metadata": {
        "id": "e9r6ryTrltpw"
      },
      "source": [
        "### Métodos\n",
        "\n",
        "https://numpy.org/doc/1.16/reference/arrays.ndarray.html#array-methods"
      ]
    },
    {
      "cell_type": "markdown",
      "metadata": {
        "id": "SR9KYy-0ltpw"
      },
      "source": [
        "## *ndarray.tolist()*\n",
        "\n",
        "Retorna o array como uma lista Python."
      ]
    },
    {
      "cell_type": "code",
      "execution_count": null,
      "metadata": {
        "id": "C2aTAwOXltpw"
      },
      "outputs": [],
      "source": []
    },
    {
      "cell_type": "markdown",
      "metadata": {
        "id": "bHxcxugPltpx"
      },
      "source": [
        "## *ndarray.reshape(shape[, order])*\n",
        "\n",
        "Retorna um array que contém os mesmos dados com uma nova forma."
      ]
    },
    {
      "cell_type": "code",
      "execution_count": null,
      "metadata": {
        "id": "lwESxO71ltpx"
      },
      "outputs": [],
      "source": []
    },
    {
      "cell_type": "code",
      "execution_count": null,
      "metadata": {
        "id": "sh9poyfzltpy"
      },
      "outputs": [],
      "source": []
    },
    {
      "cell_type": "code",
      "execution_count": null,
      "metadata": {
        "id": "5332Xu8-ltpy"
      },
      "outputs": [],
      "source": []
    },
    {
      "cell_type": "code",
      "execution_count": null,
      "metadata": {
        "id": "2RoZvbgHltpz"
      },
      "outputs": [],
      "source": []
    },
    {
      "cell_type": "code",
      "execution_count": null,
      "metadata": {
        "id": "6q0dJZ-dltp0"
      },
      "outputs": [],
      "source": [
        "km = [44410, 5712, 37123, 0, 25757]\n",
        "anos = [2003, 1991, 1990, 2019, 2006]"
      ]
    },
    {
      "cell_type": "code",
      "execution_count": null,
      "metadata": {
        "id": "bs56aGrkltp0"
      },
      "outputs": [],
      "source": []
    },
    {
      "cell_type": "code",
      "execution_count": null,
      "metadata": {
        "id": "s_GkTk2fltp1"
      },
      "outputs": [],
      "source": []
    },
    {
      "cell_type": "code",
      "execution_count": null,
      "metadata": {
        "id": "xodm8DVZltp1"
      },
      "outputs": [],
      "source": []
    },
    {
      "cell_type": "markdown",
      "metadata": {
        "id": "Tdj5iArbltp2"
      },
      "source": [
        "## *ndarray.resize(new_shape[, refcheck])*\n",
        "\n",
        "Altera a forma e o tamanho do array."
      ]
    },
    {
      "cell_type": "code",
      "execution_count": null,
      "metadata": {
        "id": "vB2zxCDtltp2"
      },
      "outputs": [],
      "source": []
    },
    {
      "cell_type": "code",
      "execution_count": null,
      "metadata": {
        "id": "IMv0m4Multp2"
      },
      "outputs": [],
      "source": []
    },
    {
      "cell_type": "code",
      "execution_count": null,
      "metadata": {
        "id": "wpAi9928ltp3"
      },
      "outputs": [],
      "source": []
    },
    {
      "cell_type": "code",
      "execution_count": null,
      "metadata": {
        "id": "CJyuKqaFltp3"
      },
      "outputs": [],
      "source": []
    },
    {
      "cell_type": "code",
      "execution_count": null,
      "metadata": {
        "id": "bj_iPZAultp4"
      },
      "outputs": [],
      "source": []
    },
    {
      "cell_type": "markdown",
      "metadata": {
        "id": "GPSk7Q_Dltp4"
      },
      "source": [
        "# 5.5 Estatísticas com arrays Numpy\n",
        "\n",
        "https://numpy.org/doc/1.16/reference/arrays.ndarray.html#calculation\n",
        "\n",
        "e\n",
        "\n",
        "https://numpy.org/doc/1.16/reference/routines.statistics.html\n",
        "\n",
        "e\n",
        "\n",
        "https://numpy.org/doc/1.16/reference/routines.math.html"
      ]
    },
    {
      "cell_type": "code",
      "execution_count": null,
      "metadata": {
        "id": "RH2u1orXltp5"
      },
      "outputs": [],
      "source": [
        "anos = np.loadtxt(fname = \"carros-anos.txt\", dtype = int)\n",
        "km = np.loadtxt(fname = \"carros-km.txt\")\n",
        "valor = np.loadtxt(fname = \"carros-valor.txt\")"
      ]
    },
    {
      "cell_type": "code",
      "execution_count": null,
      "metadata": {
        "id": "wbITF7r6ltp5"
      },
      "outputs": [],
      "source": []
    },
    {
      "cell_type": "markdown",
      "metadata": {
        "id": "U_x3SOVDltp7"
      },
      "source": [
        "https://numpy.org/doc/1.16/reference/generated/numpy.column_stack.html"
      ]
    },
    {
      "cell_type": "code",
      "execution_count": null,
      "metadata": {
        "id": "wefxl-XBltp8"
      },
      "outputs": [],
      "source": []
    },
    {
      "cell_type": "code",
      "execution_count": null,
      "metadata": {
        "id": "OzDTTmj8ltp_",
        "scrolled": true
      },
      "outputs": [],
      "source": []
    },
    {
      "cell_type": "markdown",
      "metadata": {
        "id": "Me6yUU_RltqA"
      },
      "source": [
        "## *np.mean()*\n",
        "\n",
        "Retorna a média dos elementos do array ao longo do eixo especificado."
      ]
    },
    {
      "cell_type": "code",
      "execution_count": null,
      "metadata": {
        "id": "MNEKcP38ltqA"
      },
      "outputs": [],
      "source": []
    },
    {
      "cell_type": "code",
      "execution_count": null,
      "metadata": {
        "id": "sekHQ84zltqB"
      },
      "outputs": [],
      "source": []
    },
    {
      "cell_type": "code",
      "execution_count": null,
      "metadata": {
        "id": "RpyETIVSltqC"
      },
      "outputs": [],
      "source": []
    },
    {
      "cell_type": "code",
      "execution_count": null,
      "metadata": {
        "id": "_-kpcTI8ltqD",
        "scrolled": true
      },
      "outputs": [],
      "source": []
    },
    {
      "cell_type": "markdown",
      "metadata": {
        "id": "71jViVBUltqE"
      },
      "source": [
        "## *np.std()*\n",
        "\n",
        "Retorna o desvio padrão dos elementos do array ao longo do eixo especificado."
      ]
    },
    {
      "cell_type": "code",
      "execution_count": null,
      "metadata": {
        "id": "lEwUbPx2ltqE",
        "scrolled": true
      },
      "outputs": [],
      "source": []
    },
    {
      "cell_type": "markdown",
      "metadata": {
        "id": "JTUH-vAeltqG"
      },
      "source": [
        "## *ndarray.sum()*\n",
        "\n",
        "Retorna a soma dos elementos do array ao longo do eixo especificado."
      ]
    },
    {
      "cell_type": "code",
      "execution_count": null,
      "metadata": {
        "id": "jIi3yoaWltqG"
      },
      "outputs": [],
      "source": []
    },
    {
      "cell_type": "code",
      "execution_count": null,
      "metadata": {
        "id": "X3QYbdYLltqH"
      },
      "outputs": [],
      "source": []
    },
    {
      "cell_type": "markdown",
      "metadata": {
        "id": "WbBD5ixaltqH"
      },
      "source": [
        "## *np.sum()*\n",
        "\n",
        "Retorna a soma dos elementos do array ao longo do eixo especificado."
      ]
    },
    {
      "cell_type": "code",
      "execution_count": null,
      "metadata": {
        "id": "omB6kgWgltqH"
      },
      "outputs": [],
      "source": []
    },
    {
      "cell_type": "code",
      "execution_count": null,
      "metadata": {
        "id": "LiD4G3kQltqI"
      },
      "outputs": [],
      "source": []
    },
    {
      "cell_type": "code",
      "execution_count": null,
      "metadata": {
        "id": "kpakpnntltqJ"
      },
      "outputs": [],
      "source": []
    }
  ],
  "metadata": {
    "colab": {
      "provenance": [],
      "collapsed_sections": [
        "wMdUsAq4ltjs",
        "KdG5NmmGltj0",
        "8YCDVpbYltj1",
        "WeJG-WJBltj8",
        "zuv8N7fjltkC",
        "3DSO7TcvltkL",
        "MhD56p-9ltkQ",
        "8pVVp5fsltkV",
        "a5tKQ5Beltkf",
        "zswWS4hNltky",
        "fDBrHWSBltlB",
        "8--bcJ01ltm8",
        "8lSC0XEDltm-",
        "_IZuNE48ltnS",
        "zhS89xysltnS",
        "Mmlkh5TVltnT",
        "5yMXJ0xdltna",
        "YSorJOGlltna",
        "RF6_rf90ltnh",
        "iTv5t7zAltnk",
        "k7wWCbAmltnl",
        "uF3NmgUaltnl",
        "9WgwxPIMltnv",
        "R-S-LCPGltn0",
        "j9s2OyyPltn1",
        "N9Spp7-xltn3",
        "eiP3oACPltn6",
        "NySIp62hltoC",
        "8zMZNsg2ltoU",
        "gxUmCLyJltoU",
        "Irl5oa0altoU",
        "Gbztj9T4ltoZ",
        "AcAcaKFXltom",
        "RrGAOy1rn1Dj",
        "9hHKKABhltot",
        "cJ4fPdj5ltou",
        "bqOYDJiWltou",
        "51Js0kXD0aRH",
        "CKjrvO5Tltoz",
        "Z2-8WeN1lto2",
        "aRfQfubxlto6",
        "RtG2-g1ultme",
        "b8prsQjmltme",
        "84-53f4Lltmh",
        "WWawttSpltml",
        "VSmffnCklto6",
        "ock4Ku-Ulto8",
        "1pFx86QPlto_",
        "_wnTg0wJltpB",
        "cPbkST9pltpE",
        "ul4MuKyTltpG",
        "QwnxO_rYltpH",
        "qn1PUsM9ltpJ",
        "o4-gsGICltpN",
        "4CAwtS0-ltpR",
        "86-hOHa7ltpT",
        "fCWUSI1zltpZ",
        "7osmTUC4ltpa",
        "-fW4EXIqltpi",
        "Acw1DffHltpn",
        "RBnSne6Eltpo",
        "uKqPxg2Zltpo",
        "XaY6oXkmltpp",
        "ESgVt5xOltpq",
        "Ox8JlBM3ltpr",
        "j7uPN16oltpv",
        "e9r6ryTrltpw",
        "SR9KYy-0ltpw",
        "bHxcxugPltpx",
        "Tdj5iArbltp2",
        "GPSk7Q_Dltp4",
        "Me6yUU_RltqA",
        "71jViVBUltqE",
        "JTUH-vAeltqG",
        "WbBD5ixaltqH"
      ],
      "include_colab_link": true
    },
    "kernelspec": {
      "display_name": "Python 3",
      "language": "python",
      "name": "python3"
    },
    "language_info": {
      "codemirror_mode": {
        "name": "ipython",
        "version": 3
      },
      "file_extension": ".py",
      "mimetype": "text/x-python",
      "name": "python",
      "nbconvert_exporter": "python",
      "pygments_lexer": "ipython3",
      "version": "3.6.5"
    }
  },
  "nbformat": 4,
  "nbformat_minor": 0
}